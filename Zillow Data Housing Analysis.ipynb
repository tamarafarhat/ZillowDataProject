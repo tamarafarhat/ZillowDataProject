{
 "cells": [
  {
   "cell_type": "markdown",
   "metadata": {},
   "source": [
    "This is a general exploration of zillow's dataset of home prices from April 1996 to August 2016. \n",
    "Source: https://www.zillow.com/research/data/"
   ]
  },
  {
   "cell_type": "code",
   "execution_count": 56,
   "metadata": {},
   "outputs": [],
   "source": [
    "import numpy as np\n",
    "import pandas as pd\n",
    "\n",
    "import seaborn as sns \n",
    "import matplotlib\n",
    "%matplotlib inline\n",
    "import matplotlib.pyplot as plots\n",
    "plots.style.use('fivethirtyeight')\n",
    "import math"
   ]
  },
  {
   "cell_type": "code",
   "execution_count": 57,
   "metadata": {},
   "outputs": [
    {
     "data": {
      "text/html": [
       "<div>\n",
       "<style scoped>\n",
       "    .dataframe tbody tr th:only-of-type {\n",
       "        vertical-align: middle;\n",
       "    }\n",
       "\n",
       "    .dataframe tbody tr th {\n",
       "        vertical-align: top;\n",
       "    }\n",
       "\n",
       "    .dataframe thead th {\n",
       "        text-align: right;\n",
       "    }\n",
       "</style>\n",
       "<table border=\"1\" class=\"dataframe\">\n",
       "  <thead>\n",
       "    <tr style=\"text-align: right;\">\n",
       "      <th></th>\n",
       "      <th>RegionID</th>\n",
       "      <th>RegionName</th>\n",
       "      <th>State</th>\n",
       "      <th>Metro</th>\n",
       "      <th>CountyName</th>\n",
       "      <th>SizeRank</th>\n",
       "      <th>1996-04</th>\n",
       "      <th>1996-05</th>\n",
       "      <th>1996-06</th>\n",
       "      <th>1996-07</th>\n",
       "      <th>...</th>\n",
       "      <th>2015-11</th>\n",
       "      <th>2015-12</th>\n",
       "      <th>2016-01</th>\n",
       "      <th>2016-02</th>\n",
       "      <th>2016-03</th>\n",
       "      <th>2016-04</th>\n",
       "      <th>2016-05</th>\n",
       "      <th>2016-06</th>\n",
       "      <th>2016-07</th>\n",
       "      <th>2016-08</th>\n",
       "    </tr>\n",
       "  </thead>\n",
       "  <tbody>\n",
       "    <tr>\n",
       "      <th>0</th>\n",
       "      <td>6181</td>\n",
       "      <td>New York</td>\n",
       "      <td>NY</td>\n",
       "      <td>New York</td>\n",
       "      <td>Queens</td>\n",
       "      <td>1</td>\n",
       "      <td>NaN</td>\n",
       "      <td>NaN</td>\n",
       "      <td>NaN</td>\n",
       "      <td>NaN</td>\n",
       "      <td>...</td>\n",
       "      <td>573600</td>\n",
       "      <td>576200</td>\n",
       "      <td>578400</td>\n",
       "      <td>582200</td>\n",
       "      <td>588000</td>\n",
       "      <td>592200</td>\n",
       "      <td>592500</td>\n",
       "      <td>590200</td>\n",
       "      <td>588000</td>\n",
       "      <td>586400</td>\n",
       "    </tr>\n",
       "    <tr>\n",
       "      <th>1</th>\n",
       "      <td>12447</td>\n",
       "      <td>Los Angeles</td>\n",
       "      <td>CA</td>\n",
       "      <td>Los Angeles-Long Beach-Anaheim</td>\n",
       "      <td>Los Angeles</td>\n",
       "      <td>2</td>\n",
       "      <td>155000.0</td>\n",
       "      <td>154600.0</td>\n",
       "      <td>154400.0</td>\n",
       "      <td>154200.0</td>\n",
       "      <td>...</td>\n",
       "      <td>558200</td>\n",
       "      <td>560800</td>\n",
       "      <td>562800</td>\n",
       "      <td>565600</td>\n",
       "      <td>569700</td>\n",
       "      <td>574000</td>\n",
       "      <td>577800</td>\n",
       "      <td>580600</td>\n",
       "      <td>583000</td>\n",
       "      <td>585100</td>\n",
       "    </tr>\n",
       "    <tr>\n",
       "      <th>2</th>\n",
       "      <td>17426</td>\n",
       "      <td>Chicago</td>\n",
       "      <td>IL</td>\n",
       "      <td>Chicago</td>\n",
       "      <td>Cook</td>\n",
       "      <td>3</td>\n",
       "      <td>109700.0</td>\n",
       "      <td>109400.0</td>\n",
       "      <td>109300.0</td>\n",
       "      <td>109300.0</td>\n",
       "      <td>...</td>\n",
       "      <td>207800</td>\n",
       "      <td>206900</td>\n",
       "      <td>206200</td>\n",
       "      <td>205800</td>\n",
       "      <td>206200</td>\n",
       "      <td>207300</td>\n",
       "      <td>208200</td>\n",
       "      <td>209100</td>\n",
       "      <td>211000</td>\n",
       "      <td>213000</td>\n",
       "    </tr>\n",
       "    <tr>\n",
       "      <th>3</th>\n",
       "      <td>13271</td>\n",
       "      <td>Philadelphia</td>\n",
       "      <td>PA</td>\n",
       "      <td>Philadelphia</td>\n",
       "      <td>Philadelphia</td>\n",
       "      <td>4</td>\n",
       "      <td>50000.0</td>\n",
       "      <td>49900.0</td>\n",
       "      <td>49600.0</td>\n",
       "      <td>49400.0</td>\n",
       "      <td>...</td>\n",
       "      <td>122300</td>\n",
       "      <td>121600</td>\n",
       "      <td>121800</td>\n",
       "      <td>123300</td>\n",
       "      <td>125200</td>\n",
       "      <td>126400</td>\n",
       "      <td>127000</td>\n",
       "      <td>127400</td>\n",
       "      <td>128300</td>\n",
       "      <td>129100</td>\n",
       "    </tr>\n",
       "    <tr>\n",
       "      <th>4</th>\n",
       "      <td>40326</td>\n",
       "      <td>Phoenix</td>\n",
       "      <td>AZ</td>\n",
       "      <td>Phoenix</td>\n",
       "      <td>Maricopa</td>\n",
       "      <td>5</td>\n",
       "      <td>87200.0</td>\n",
       "      <td>87700.0</td>\n",
       "      <td>88200.0</td>\n",
       "      <td>88400.0</td>\n",
       "      <td>...</td>\n",
       "      <td>183800</td>\n",
       "      <td>185300</td>\n",
       "      <td>186600</td>\n",
       "      <td>188000</td>\n",
       "      <td>189100</td>\n",
       "      <td>190200</td>\n",
       "      <td>191300</td>\n",
       "      <td>192800</td>\n",
       "      <td>194500</td>\n",
       "      <td>195900</td>\n",
       "    </tr>\n",
       "  </tbody>\n",
       "</table>\n",
       "<p>5 rows × 251 columns</p>\n",
       "</div>"
      ],
      "text/plain": [
       "   RegionID    RegionName State                           Metro    CountyName  \\\n",
       "0      6181      New York    NY                        New York        Queens   \n",
       "1     12447   Los Angeles    CA  Los Angeles-Long Beach-Anaheim   Los Angeles   \n",
       "2     17426       Chicago    IL                         Chicago          Cook   \n",
       "3     13271  Philadelphia    PA                    Philadelphia  Philadelphia   \n",
       "4     40326       Phoenix    AZ                         Phoenix      Maricopa   \n",
       "\n",
       "   SizeRank   1996-04   1996-05   1996-06   1996-07  ...  2015-11  2015-12  \\\n",
       "0         1       NaN       NaN       NaN       NaN  ...   573600   576200   \n",
       "1         2  155000.0  154600.0  154400.0  154200.0  ...   558200   560800   \n",
       "2         3  109700.0  109400.0  109300.0  109300.0  ...   207800   206900   \n",
       "3         4   50000.0   49900.0   49600.0   49400.0  ...   122300   121600   \n",
       "4         5   87200.0   87700.0   88200.0   88400.0  ...   183800   185300   \n",
       "\n",
       "   2016-01  2016-02  2016-03  2016-04  2016-05  2016-06  2016-07  2016-08  \n",
       "0   578400   582200   588000   592200   592500   590200   588000   586400  \n",
       "1   562800   565600   569700   574000   577800   580600   583000   585100  \n",
       "2   206200   205800   206200   207300   208200   209100   211000   213000  \n",
       "3   121800   123300   125200   126400   127000   127400   128300   129100  \n",
       "4   186600   188000   189100   190200   191300   192800   194500   195900  \n",
       "\n",
       "[5 rows x 251 columns]"
      ]
     },
     "execution_count": 57,
     "metadata": {},
     "output_type": "execute_result"
    }
   ],
   "source": [
    "home_prices = pd.read_csv(\"City_Zhvi_AllHomes.csv\")\n",
    "home_prices.head(5)"
   ]
  },
  {
   "cell_type": "markdown",
   "metadata": {},
   "source": [
    "I would like to visualize the home prices of any city. Some cities have missing price values in the oldest years, so I would also like to start graphing at the beginning of actual numerical values. I will add on the start date of the data as another column onto the table, and then splice the year and price arrays to the correct length. "
   ]
  },
  {
   "cell_type": "code",
   "execution_count": 58,
   "metadata": {},
   "outputs": [
    {
     "data": {
      "text/html": [
       "<div>\n",
       "<style scoped>\n",
       "    .dataframe tbody tr th:only-of-type {\n",
       "        vertical-align: middle;\n",
       "    }\n",
       "\n",
       "    .dataframe tbody tr th {\n",
       "        vertical-align: top;\n",
       "    }\n",
       "\n",
       "    .dataframe thead th {\n",
       "        text-align: right;\n",
       "    }\n",
       "</style>\n",
       "<table border=\"1\" class=\"dataframe\">\n",
       "  <thead>\n",
       "    <tr style=\"text-align: right;\">\n",
       "      <th></th>\n",
       "      <th>RegionID</th>\n",
       "      <th>RegionName</th>\n",
       "      <th>State</th>\n",
       "      <th>Metro</th>\n",
       "      <th>CountyName</th>\n",
       "      <th>SizeRank</th>\n",
       "      <th>1996-04</th>\n",
       "      <th>1996-05</th>\n",
       "      <th>1996-06</th>\n",
       "      <th>1996-07</th>\n",
       "      <th>...</th>\n",
       "      <th>2015-12</th>\n",
       "      <th>2016-01</th>\n",
       "      <th>2016-02</th>\n",
       "      <th>2016-03</th>\n",
       "      <th>2016-04</th>\n",
       "      <th>2016-05</th>\n",
       "      <th>2016-06</th>\n",
       "      <th>2016-07</th>\n",
       "      <th>2016-08</th>\n",
       "      <th>Start Year of Data</th>\n",
       "    </tr>\n",
       "  </thead>\n",
       "  <tbody>\n",
       "    <tr>\n",
       "      <th>0</th>\n",
       "      <td>6181</td>\n",
       "      <td>New York</td>\n",
       "      <td>NY</td>\n",
       "      <td>New York</td>\n",
       "      <td>Queens</td>\n",
       "      <td>1</td>\n",
       "      <td>NaN</td>\n",
       "      <td>NaN</td>\n",
       "      <td>NaN</td>\n",
       "      <td>NaN</td>\n",
       "      <td>...</td>\n",
       "      <td>576200</td>\n",
       "      <td>578400</td>\n",
       "      <td>582200</td>\n",
       "      <td>588000</td>\n",
       "      <td>592200</td>\n",
       "      <td>592500</td>\n",
       "      <td>590200</td>\n",
       "      <td>588000</td>\n",
       "      <td>586400</td>\n",
       "      <td>2004-08</td>\n",
       "    </tr>\n",
       "    <tr>\n",
       "      <th>1</th>\n",
       "      <td>12447</td>\n",
       "      <td>Los Angeles</td>\n",
       "      <td>CA</td>\n",
       "      <td>Los Angeles-Long Beach-Anaheim</td>\n",
       "      <td>Los Angeles</td>\n",
       "      <td>2</td>\n",
       "      <td>155000.0</td>\n",
       "      <td>154600.0</td>\n",
       "      <td>154400.0</td>\n",
       "      <td>154200.0</td>\n",
       "      <td>...</td>\n",
       "      <td>560800</td>\n",
       "      <td>562800</td>\n",
       "      <td>565600</td>\n",
       "      <td>569700</td>\n",
       "      <td>574000</td>\n",
       "      <td>577800</td>\n",
       "      <td>580600</td>\n",
       "      <td>583000</td>\n",
       "      <td>585100</td>\n",
       "      <td>1996-04</td>\n",
       "    </tr>\n",
       "    <tr>\n",
       "      <th>2</th>\n",
       "      <td>17426</td>\n",
       "      <td>Chicago</td>\n",
       "      <td>IL</td>\n",
       "      <td>Chicago</td>\n",
       "      <td>Cook</td>\n",
       "      <td>3</td>\n",
       "      <td>109700.0</td>\n",
       "      <td>109400.0</td>\n",
       "      <td>109300.0</td>\n",
       "      <td>109300.0</td>\n",
       "      <td>...</td>\n",
       "      <td>206900</td>\n",
       "      <td>206200</td>\n",
       "      <td>205800</td>\n",
       "      <td>206200</td>\n",
       "      <td>207300</td>\n",
       "      <td>208200</td>\n",
       "      <td>209100</td>\n",
       "      <td>211000</td>\n",
       "      <td>213000</td>\n",
       "      <td>1996-04</td>\n",
       "    </tr>\n",
       "    <tr>\n",
       "      <th>3</th>\n",
       "      <td>13271</td>\n",
       "      <td>Philadelphia</td>\n",
       "      <td>PA</td>\n",
       "      <td>Philadelphia</td>\n",
       "      <td>Philadelphia</td>\n",
       "      <td>4</td>\n",
       "      <td>50000.0</td>\n",
       "      <td>49900.0</td>\n",
       "      <td>49600.0</td>\n",
       "      <td>49400.0</td>\n",
       "      <td>...</td>\n",
       "      <td>121600</td>\n",
       "      <td>121800</td>\n",
       "      <td>123300</td>\n",
       "      <td>125200</td>\n",
       "      <td>126400</td>\n",
       "      <td>127000</td>\n",
       "      <td>127400</td>\n",
       "      <td>128300</td>\n",
       "      <td>129100</td>\n",
       "      <td>1996-04</td>\n",
       "    </tr>\n",
       "    <tr>\n",
       "      <th>4</th>\n",
       "      <td>40326</td>\n",
       "      <td>Phoenix</td>\n",
       "      <td>AZ</td>\n",
       "      <td>Phoenix</td>\n",
       "      <td>Maricopa</td>\n",
       "      <td>5</td>\n",
       "      <td>87200.0</td>\n",
       "      <td>87700.0</td>\n",
       "      <td>88200.0</td>\n",
       "      <td>88400.0</td>\n",
       "      <td>...</td>\n",
       "      <td>185300</td>\n",
       "      <td>186600</td>\n",
       "      <td>188000</td>\n",
       "      <td>189100</td>\n",
       "      <td>190200</td>\n",
       "      <td>191300</td>\n",
       "      <td>192800</td>\n",
       "      <td>194500</td>\n",
       "      <td>195900</td>\n",
       "      <td>1996-04</td>\n",
       "    </tr>\n",
       "  </tbody>\n",
       "</table>\n",
       "<p>5 rows × 252 columns</p>\n",
       "</div>"
      ],
      "text/plain": [
       "   RegionID    RegionName State                           Metro    CountyName  \\\n",
       "0      6181      New York    NY                        New York        Queens   \n",
       "1     12447   Los Angeles    CA  Los Angeles-Long Beach-Anaheim   Los Angeles   \n",
       "2     17426       Chicago    IL                         Chicago          Cook   \n",
       "3     13271  Philadelphia    PA                    Philadelphia  Philadelphia   \n",
       "4     40326       Phoenix    AZ                         Phoenix      Maricopa   \n",
       "\n",
       "   SizeRank   1996-04   1996-05   1996-06   1996-07  ...  2015-12  2016-01  \\\n",
       "0         1       NaN       NaN       NaN       NaN  ...   576200   578400   \n",
       "1         2  155000.0  154600.0  154400.0  154200.0  ...   560800   562800   \n",
       "2         3  109700.0  109400.0  109300.0  109300.0  ...   206900   206200   \n",
       "3         4   50000.0   49900.0   49600.0   49400.0  ...   121600   121800   \n",
       "4         5   87200.0   87700.0   88200.0   88400.0  ...   185300   186600   \n",
       "\n",
       "   2016-02  2016-03  2016-04  2016-05  2016-06  2016-07  2016-08  \\\n",
       "0   582200   588000   592200   592500   590200   588000   586400   \n",
       "1   565600   569700   574000   577800   580600   583000   585100   \n",
       "2   205800   206200   207300   208200   209100   211000   213000   \n",
       "3   123300   125200   126400   127000   127400   128300   129100   \n",
       "4   188000   189100   190200   191300   192800   194500   195900   \n",
       "\n",
       "   Start Year of Data  \n",
       "0             2004-08  \n",
       "1             1996-04  \n",
       "2             1996-04  \n",
       "3             1996-04  \n",
       "4             1996-04  \n",
       "\n",
       "[5 rows x 252 columns]"
      ]
     },
     "execution_count": 58,
     "metadata": {},
     "output_type": "execute_result"
    }
   ],
   "source": [
    "def find_start_year_of_data(tbl):\n",
    "    \"\"\"Return array of the start year of the data, in string format\"\"\"\n",
    "    column_names = list(home_prices)\n",
    "    only_year_column_names = column_names[6:]  #there are six columns that carry nonprice information\n",
    "    \n",
    "    start_year_list = []\n",
    "    for i in range(len(home_prices.index)):\n",
    "        row = np.array(home_prices.iloc[i])\n",
    "\n",
    "        number_missing_prices = 0\n",
    "        for price in row[6:]:\n",
    "            if math.isnan(price):\n",
    "                number_missing_prices += 1\n",
    "                \n",
    "        start_year = only_year_column_names[number_missing_prices] \n",
    "        start_year_list.append(start_year)\n",
    "    return start_year_list\n",
    "\n",
    "home_prices[\"Start Year of Data\"] = np.array(find_start_year_of_data(home_prices))\n",
    "home_prices.head(5)"
   ]
  },
  {
   "cell_type": "markdown",
   "metadata": {},
   "source": [
    "For ease of access, I'm going to make a dictionary of the city and its row index in the table. "
   ]
  },
  {
   "cell_type": "code",
   "execution_count": 59,
   "metadata": {},
   "outputs": [],
   "source": [
    "def item_index_dict(tbl, column_name):\n",
    "    \"\"\"This cell makes a dictionary of a row item and its index\"\"\"\n",
    "    dict_item_and_index = {}\n",
    "    row_index = 0\n",
    "\n",
    "    for item in tbl[column_name]:\n",
    "        dict_item_and_index[item] = row_index\n",
    "        row_index += 1\n",
    "        \n",
    "    return dict_item_and_index\n",
    "\n",
    "dict_city_rowindex = item_index_dict(home_prices, \"RegionName\")"
   ]
  },
  {
   "cell_type": "markdown",
   "metadata": {},
   "source": [
    "I'll also write functions that return tuples of only numerical price values and the start date of data for a city."
   ]
  },
  {
   "cell_type": "code",
   "execution_count": 60,
   "metadata": {
    "scrolled": false
   },
   "outputs": [],
   "source": [
    "def get_prices_and_start_date(city):\n",
    "    \"\"\"This function cleans the data. \n",
    "    \n",
    "    Takes in a city name.   \n",
    "    Returns a tuple of actual prices and start date of data for a city.\n",
    "    \"\"\"\n",
    "    index = dict_city_rowindex[city]\n",
    "    city_row_array = np.array(home_prices.iloc[index])\n",
    "    \n",
    "    \n",
    "    column_names = list(home_prices)\n",
    "    start_date = city_row_array[-1]\n",
    "    start_date_idx = column_names.index(start_date)  \n",
    "    city_row_only_prices = city_row_array[start_date_idx:-1]\n",
    "    \n",
    "    \n",
    "    return (city_row_only_prices, start_date) "
   ]
  },
  {
   "cell_type": "markdown",
   "metadata": {},
   "source": [
    "Now I can plot the appreciation over time."
   ]
  },
  {
   "cell_type": "code",
   "execution_count": 61,
   "metadata": {},
   "outputs": [],
   "source": [
    "# Expected format for string is \"YYYY-MM\"\n",
    "def convert_to_decimal_year(string):\n",
    "    year, month = string.split(\"-\")\n",
    "    return round(int(year) + int(month)/12, 2)"
   ]
  },
  {
   "cell_type": "code",
   "execution_count": 62,
   "metadata": {},
   "outputs": [
    {
     "data": {
      "image/png": "[encoded data removed]",
      "text/plain": [
       "<Figure size 432x288 with 1 Axes>"
      ]
     },
     "metadata": {},
     "output_type": "display_data"
    }
   ],
   "source": [
    "#Plots the appreciation of houses over time for a given city\n",
    "def plot_appreciation(city):\n",
    "    \n",
    "    prices, start_date = get_prices_and_start_date(city)\n",
    "    city_home_prices_float = np.array([float(price) for price in prices])\n",
    "    \n",
    "    column_names = list(home_prices)\n",
    "    start_date_idx = column_names.index(start_date)\n",
    "    \n",
    "    years_string = column_names[start_date_idx:-1]\n",
    "    years_int = np.array([convert_to_decimal_year(x) for x in years_string])\n",
    "    \n",
    "    df = pd.DataFrame({'Year': years_int, 'Home Price': city_home_prices_float})\n",
    "    df.plot.line(x='Year', y='Home Price')\n",
    "   \n",
    "    \n",
    "    \n",
    "plot_appreciation(\"New York\")"
   ]
  },
  {
   "cell_type": "markdown",
   "metadata": {},
   "source": [
    "I'd like to see what cities have appreciated the most from 1996 to 2016. Some of the cities will not show up because they are lacking a 1996 value, but that is ok for now. "
   ]
  },
  {
   "cell_type": "code",
   "execution_count": 63,
   "metadata": {},
   "outputs": [
    {
     "data": {
      "text/html": [
       "<div>\n",
       "<style scoped>\n",
       "    .dataframe tbody tr th:only-of-type {\n",
       "        vertical-align: middle;\n",
       "    }\n",
       "\n",
       "    .dataframe tbody tr th {\n",
       "        vertical-align: top;\n",
       "    }\n",
       "\n",
       "    .dataframe thead th {\n",
       "        text-align: right;\n",
       "    }\n",
       "</style>\n",
       "<table border=\"1\" class=\"dataframe\">\n",
       "  <thead>\n",
       "    <tr style=\"text-align: right;\">\n",
       "      <th></th>\n",
       "      <th>RegionID</th>\n",
       "      <th>RegionName</th>\n",
       "      <th>State</th>\n",
       "      <th>Metro</th>\n",
       "      <th>CountyName</th>\n",
       "      <th>SizeRank</th>\n",
       "      <th>1996-04</th>\n",
       "      <th>1996-05</th>\n",
       "      <th>1996-06</th>\n",
       "      <th>1996-07</th>\n",
       "      <th>...</th>\n",
       "      <th>2016-01</th>\n",
       "      <th>2016-02</th>\n",
       "      <th>2016-03</th>\n",
       "      <th>2016-04</th>\n",
       "      <th>2016-05</th>\n",
       "      <th>2016-06</th>\n",
       "      <th>2016-07</th>\n",
       "      <th>2016-08</th>\n",
       "      <th>Start Year of Data</th>\n",
       "      <th>Appreciation (%)</th>\n",
       "    </tr>\n",
       "  </thead>\n",
       "  <tbody>\n",
       "    <tr>\n",
       "      <th>583</th>\n",
       "      <td>26374</td>\n",
       "      <td>Palo Alto</td>\n",
       "      <td>CA</td>\n",
       "      <td>San Jose</td>\n",
       "      <td>Santa Clara</td>\n",
       "      <td>584</td>\n",
       "      <td>436200.0</td>\n",
       "      <td>437400.0</td>\n",
       "      <td>439300.0</td>\n",
       "      <td>442600.0</td>\n",
       "      <td>...</td>\n",
       "      <td>2474100</td>\n",
       "      <td>2489200</td>\n",
       "      <td>2499200</td>\n",
       "      <td>2499900</td>\n",
       "      <td>2491700</td>\n",
       "      <td>2484400</td>\n",
       "      <td>2481700</td>\n",
       "      <td>2479200</td>\n",
       "      <td>1996-04</td>\n",
       "      <td>468.363136</td>\n",
       "    </tr>\n",
       "    <tr>\n",
       "      <th>2095</th>\n",
       "      <td>52842</td>\n",
       "      <td>Laguna Beach</td>\n",
       "      <td>CA</td>\n",
       "      <td>Los Angeles-Long Beach-Anaheim</td>\n",
       "      <td>Orange</td>\n",
       "      <td>2096</td>\n",
       "      <td>348700.0</td>\n",
       "      <td>354000.0</td>\n",
       "      <td>362400.0</td>\n",
       "      <td>371200.0</td>\n",
       "      <td>...</td>\n",
       "      <td>1608900</td>\n",
       "      <td>1669800</td>\n",
       "      <td>1742300</td>\n",
       "      <td>1787100</td>\n",
       "      <td>1805500</td>\n",
       "      <td>1838100</td>\n",
       "      <td>1901500</td>\n",
       "      <td>1963900</td>\n",
       "      <td>1996-07</td>\n",
       "      <td>463.206194</td>\n",
       "    </tr>\n",
       "    <tr>\n",
       "      <th>1264</th>\n",
       "      <td>19177</td>\n",
       "      <td>Manhattan Beach</td>\n",
       "      <td>CA</td>\n",
       "      <td>Los Angeles-Long Beach-Anaheim</td>\n",
       "      <td>Los Angeles</td>\n",
       "      <td>1265</td>\n",
       "      <td>428000.0</td>\n",
       "      <td>434400.0</td>\n",
       "      <td>438900.0</td>\n",
       "      <td>442700.0</td>\n",
       "      <td>...</td>\n",
       "      <td>2130000</td>\n",
       "      <td>2137200</td>\n",
       "      <td>2160800</td>\n",
       "      <td>2186100</td>\n",
       "      <td>2193400</td>\n",
       "      <td>2184800</td>\n",
       "      <td>2175300</td>\n",
       "      <td>2169400</td>\n",
       "      <td>1996-04</td>\n",
       "      <td>406.869159</td>\n",
       "    </tr>\n",
       "    <tr>\n",
       "      <th>1245</th>\n",
       "      <td>48424</td>\n",
       "      <td>West Hollywood</td>\n",
       "      <td>CA</td>\n",
       "      <td>Los Angeles-Long Beach-Anaheim</td>\n",
       "      <td>Los Angeles</td>\n",
       "      <td>1246</td>\n",
       "      <td>144700.0</td>\n",
       "      <td>144500.0</td>\n",
       "      <td>142600.0</td>\n",
       "      <td>141700.0</td>\n",
       "      <td>...</td>\n",
       "      <td>690400</td>\n",
       "      <td>698300</td>\n",
       "      <td>703300</td>\n",
       "      <td>708700</td>\n",
       "      <td>712900</td>\n",
       "      <td>716100</td>\n",
       "      <td>717500</td>\n",
       "      <td>717800</td>\n",
       "      <td>1996-04</td>\n",
       "      <td>396.060815</td>\n",
       "    </tr>\n",
       "    <tr>\n",
       "      <th>481</th>\n",
       "      <td>32999</td>\n",
       "      <td>Mountain View</td>\n",
       "      <td>CA</td>\n",
       "      <td>San Jose</td>\n",
       "      <td>Santa Clara</td>\n",
       "      <td>482</td>\n",
       "      <td>294100.0</td>\n",
       "      <td>293300.0</td>\n",
       "      <td>292700.0</td>\n",
       "      <td>293400.0</td>\n",
       "      <td>...</td>\n",
       "      <td>1385800</td>\n",
       "      <td>1401100</td>\n",
       "      <td>1416100</td>\n",
       "      <td>1423400</td>\n",
       "      <td>1422200</td>\n",
       "      <td>1423700</td>\n",
       "      <td>1426700</td>\n",
       "      <td>1428300</td>\n",
       "      <td>1996-04</td>\n",
       "      <td>385.651139</td>\n",
       "    </tr>\n",
       "    <tr>\n",
       "      <th>9211</th>\n",
       "      <td>14029</td>\n",
       "      <td>Sullivans Island</td>\n",
       "      <td>SC</td>\n",
       "      <td>Charleston</td>\n",
       "      <td>Charleston</td>\n",
       "      <td>9212</td>\n",
       "      <td>337400.0</td>\n",
       "      <td>333300.0</td>\n",
       "      <td>331800.0</td>\n",
       "      <td>332700.0</td>\n",
       "      <td>...</td>\n",
       "      <td>1532400</td>\n",
       "      <td>1558000</td>\n",
       "      <td>1572000</td>\n",
       "      <td>1580400</td>\n",
       "      <td>1584500</td>\n",
       "      <td>1592800</td>\n",
       "      <td>1599500</td>\n",
       "      <td>1600900</td>\n",
       "      <td>1996-04</td>\n",
       "      <td>374.481328</td>\n",
       "    </tr>\n",
       "    <tr>\n",
       "      <th>6659</th>\n",
       "      <td>4905</td>\n",
       "      <td>Glen Ellen</td>\n",
       "      <td>CA</td>\n",
       "      <td>Santa Rosa</td>\n",
       "      <td>Sonoma</td>\n",
       "      <td>6660</td>\n",
       "      <td>214500.0</td>\n",
       "      <td>216700.0</td>\n",
       "      <td>218800.0</td>\n",
       "      <td>218500.0</td>\n",
       "      <td>...</td>\n",
       "      <td>909800</td>\n",
       "      <td>922300</td>\n",
       "      <td>947600</td>\n",
       "      <td>975700</td>\n",
       "      <td>993500</td>\n",
       "      <td>1002300</td>\n",
       "      <td>1010500</td>\n",
       "      <td>1011300</td>\n",
       "      <td>1996-04</td>\n",
       "      <td>371.468531</td>\n",
       "    </tr>\n",
       "    <tr>\n",
       "      <th>366</th>\n",
       "      <td>26964</td>\n",
       "      <td>Santa Monica</td>\n",
       "      <td>CA</td>\n",
       "      <td>Los Angeles-Long Beach-Anaheim</td>\n",
       "      <td>Los Angeles</td>\n",
       "      <td>367</td>\n",
       "      <td>286800.0</td>\n",
       "      <td>285900.0</td>\n",
       "      <td>283400.0</td>\n",
       "      <td>282800.0</td>\n",
       "      <td>...</td>\n",
       "      <td>1293100</td>\n",
       "      <td>1306100</td>\n",
       "      <td>1316000</td>\n",
       "      <td>1330500</td>\n",
       "      <td>1348300</td>\n",
       "      <td>1356500</td>\n",
       "      <td>1352900</td>\n",
       "      <td>1348300</td>\n",
       "      <td>1996-04</td>\n",
       "      <td>370.118550</td>\n",
       "    </tr>\n",
       "    <tr>\n",
       "      <th>182</th>\n",
       "      <td>54626</td>\n",
       "      <td>Sunnyvale</td>\n",
       "      <td>CA</td>\n",
       "      <td>San Jose</td>\n",
       "      <td>Santa Clara</td>\n",
       "      <td>183</td>\n",
       "      <td>298200.0</td>\n",
       "      <td>299700.0</td>\n",
       "      <td>301000.0</td>\n",
       "      <td>301800.0</td>\n",
       "      <td>...</td>\n",
       "      <td>1351000</td>\n",
       "      <td>1364900</td>\n",
       "      <td>1379700</td>\n",
       "      <td>1388000</td>\n",
       "      <td>1389500</td>\n",
       "      <td>1390500</td>\n",
       "      <td>1393400</td>\n",
       "      <td>1395700</td>\n",
       "      <td>1996-04</td>\n",
       "      <td>368.041583</td>\n",
       "    </tr>\n",
       "    <tr>\n",
       "      <th>1066</th>\n",
       "      <td>39748</td>\n",
       "      <td>Menlo Park</td>\n",
       "      <td>CA</td>\n",
       "      <td>San Francisco</td>\n",
       "      <td>San Mateo</td>\n",
       "      <td>1067</td>\n",
       "      <td>419200.0</td>\n",
       "      <td>421300.0</td>\n",
       "      <td>422500.0</td>\n",
       "      <td>424400.0</td>\n",
       "      <td>...</td>\n",
       "      <td>1959700</td>\n",
       "      <td>1984100</td>\n",
       "      <td>1996400</td>\n",
       "      <td>2006500</td>\n",
       "      <td>2011100</td>\n",
       "      <td>2002900</td>\n",
       "      <td>1981100</td>\n",
       "      <td>1959700</td>\n",
       "      <td>1996-04</td>\n",
       "      <td>367.485687</td>\n",
       "    </tr>\n",
       "  </tbody>\n",
       "</table>\n",
       "<p>10 rows × 253 columns</p>\n",
       "</div>"
      ],
      "text/plain": [
       "      RegionID        RegionName State                           Metro  \\\n",
       "583      26374         Palo Alto    CA                        San Jose   \n",
       "2095     52842      Laguna Beach    CA  Los Angeles-Long Beach-Anaheim   \n",
       "1264     19177   Manhattan Beach    CA  Los Angeles-Long Beach-Anaheim   \n",
       "1245     48424    West Hollywood    CA  Los Angeles-Long Beach-Anaheim   \n",
       "481      32999     Mountain View    CA                        San Jose   \n",
       "9211     14029  Sullivans Island    SC                      Charleston   \n",
       "6659      4905        Glen Ellen    CA                      Santa Rosa   \n",
       "366      26964      Santa Monica    CA  Los Angeles-Long Beach-Anaheim   \n",
       "182      54626         Sunnyvale    CA                        San Jose   \n",
       "1066     39748        Menlo Park    CA                   San Francisco   \n",
       "\n",
       "       CountyName  SizeRank   1996-04   1996-05   1996-06   1996-07  ...  \\\n",
       "583   Santa Clara       584  436200.0  437400.0  439300.0  442600.0  ...   \n",
       "2095       Orange      2096  348700.0  354000.0  362400.0  371200.0  ...   \n",
       "1264  Los Angeles      1265  428000.0  434400.0  438900.0  442700.0  ...   \n",
       "1245  Los Angeles      1246  144700.0  144500.0  142600.0  141700.0  ...   \n",
       "481   Santa Clara       482  294100.0  293300.0  292700.0  293400.0  ...   \n",
       "9211   Charleston      9212  337400.0  333300.0  331800.0  332700.0  ...   \n",
       "6659       Sonoma      6660  214500.0  216700.0  218800.0  218500.0  ...   \n",
       "366   Los Angeles       367  286800.0  285900.0  283400.0  282800.0  ...   \n",
       "182   Santa Clara       183  298200.0  299700.0  301000.0  301800.0  ...   \n",
       "1066    San Mateo      1067  419200.0  421300.0  422500.0  424400.0  ...   \n",
       "\n",
       "      2016-01  2016-02  2016-03  2016-04  2016-05  2016-06  2016-07  2016-08  \\\n",
       "583   2474100  2489200  2499200  2499900  2491700  2484400  2481700  2479200   \n",
       "2095  1608900  1669800  1742300  1787100  1805500  1838100  1901500  1963900   \n",
       "1264  2130000  2137200  2160800  2186100  2193400  2184800  2175300  2169400   \n",
       "1245   690400   698300   703300   708700   712900   716100   717500   717800   \n",
       "481   1385800  1401100  1416100  1423400  1422200  1423700  1426700  1428300   \n",
       "9211  1532400  1558000  1572000  1580400  1584500  1592800  1599500  1600900   \n",
       "6659   909800   922300   947600   975700   993500  1002300  1010500  1011300   \n",
       "366   1293100  1306100  1316000  1330500  1348300  1356500  1352900  1348300   \n",
       "182   1351000  1364900  1379700  1388000  1389500  1390500  1393400  1395700   \n",
       "1066  1959700  1984100  1996400  2006500  2011100  2002900  1981100  1959700   \n",
       "\n",
       "      Start Year of Data  Appreciation (%)  \n",
       "583              1996-04        468.363136  \n",
       "2095             1996-07        463.206194  \n",
       "1264             1996-04        406.869159  \n",
       "1245             1996-04        396.060815  \n",
       "481              1996-04        385.651139  \n",
       "9211             1996-04        374.481328  \n",
       "6659             1996-04        371.468531  \n",
       "366              1996-04        370.118550  \n",
       "182              1996-04        368.041583  \n",
       "1066             1996-04        367.485687  \n",
       "\n",
       "[10 rows x 253 columns]"
      ]
     },
     "execution_count": 63,
     "metadata": {},
     "output_type": "execute_result"
    }
   ],
   "source": [
    "inital_prices = home_prices[\"1996-04\"]\n",
    "end_prices = home_prices[\"2016-08\"]\n",
    "\n",
    "appreciation_rate = ((end_prices - inital_prices)/inital_prices) * 100\n",
    "\n",
    "home_prices[\"Appreciation (%)\"] = appreciation_rate\n",
    "sorted_appreciation = home_prices.sort_values(by=\"Appreciation (%)\", ascending=False)\n",
    "sorted_appreciation.head(10)"
   ]
  },
  {
   "cell_type": "markdown",
   "metadata": {},
   "source": [
    "Here we can see that out of the top ten results of the highest appreciation rate, nine are from the state of California. Is this because homes in California have actually appreciated the most of anywhere else in the United States? Or is this because the data itself is biased, and many states lack data until much later years? For example, I know from personal experience that New York City has appreciated a lot over the past 20 years. However, it will not show up in the above table because it is missing data until 2004. It's appreciation only show up as \"Nan\" value.\n",
    "\n",
    "Let us look at the completeness of data by state. If California is near the top of the list, it could be that California data is the most complete and that our appreciation calculationsmay just be being influenced by that."
   ]
  },
  {
   "cell_type": "code",
   "execution_count": 64,
   "metadata": {
    "scrolled": true
   },
   "outputs": [
    {
     "data": {
      "text/html": [
       "<div>\n",
       "<style scoped>\n",
       "    .dataframe tbody tr th:only-of-type {\n",
       "        vertical-align: middle;\n",
       "    }\n",
       "\n",
       "    .dataframe tbody tr th {\n",
       "        vertical-align: top;\n",
       "    }\n",
       "\n",
       "    .dataframe thead th {\n",
       "        text-align: right;\n",
       "    }\n",
       "</style>\n",
       "<table border=\"1\" class=\"dataframe\">\n",
       "  <thead>\n",
       "    <tr style=\"text-align: right;\">\n",
       "      <th></th>\n",
       "      <th>state</th>\n",
       "      <th>years data</th>\n",
       "    </tr>\n",
       "  </thead>\n",
       "  <tbody>\n",
       "    <tr>\n",
       "      <th>8</th>\n",
       "      <td>DE</td>\n",
       "      <td>20.340000</td>\n",
       "    </tr>\n",
       "    <tr>\n",
       "      <th>43</th>\n",
       "      <td>UT</td>\n",
       "      <td>20.329880</td>\n",
       "    </tr>\n",
       "    <tr>\n",
       "      <th>19</th>\n",
       "      <td>MA</td>\n",
       "      <td>20.327611</td>\n",
       "    </tr>\n",
       "    <tr>\n",
       "      <th>39</th>\n",
       "      <td>RI</td>\n",
       "      <td>20.306500</td>\n",
       "    </tr>\n",
       "    <tr>\n",
       "      <th>2</th>\n",
       "      <td>AR</td>\n",
       "      <td>20.304737</td>\n",
       "    </tr>\n",
       "    <tr>\n",
       "      <th>6</th>\n",
       "      <td>CT</td>\n",
       "      <td>20.202567</td>\n",
       "    </tr>\n",
       "    <tr>\n",
       "      <th>31</th>\n",
       "      <td>NJ</td>\n",
       "      <td>20.046772</td>\n",
       "    </tr>\n",
       "    <tr>\n",
       "      <th>20</th>\n",
       "      <td>MD</td>\n",
       "      <td>19.894357</td>\n",
       "    </tr>\n",
       "    <tr>\n",
       "      <th>33</th>\n",
       "      <td>NV</td>\n",
       "      <td>19.671538</td>\n",
       "    </tr>\n",
       "    <tr>\n",
       "      <th>37</th>\n",
       "      <td>OR</td>\n",
       "      <td>19.597341</td>\n",
       "    </tr>\n",
       "    <tr>\n",
       "      <th>3</th>\n",
       "      <td>AZ</td>\n",
       "      <td>19.591833</td>\n",
       "    </tr>\n",
       "    <tr>\n",
       "      <th>4</th>\n",
       "      <td>CA</td>\n",
       "      <td>19.590057</td>\n",
       "    </tr>\n",
       "    <tr>\n",
       "      <th>35</th>\n",
       "      <td>OH</td>\n",
       "      <td>19.492030</td>\n",
       "    </tr>\n",
       "    <tr>\n",
       "      <th>14</th>\n",
       "      <td>IL</td>\n",
       "      <td>19.491565</td>\n",
       "    </tr>\n",
       "    <tr>\n",
       "      <th>9</th>\n",
       "      <td>FL</td>\n",
       "      <td>19.454363</td>\n",
       "    </tr>\n",
       "    <tr>\n",
       "      <th>23</th>\n",
       "      <td>MN</td>\n",
       "      <td>19.308690</td>\n",
       "    </tr>\n",
       "    <tr>\n",
       "      <th>38</th>\n",
       "      <td>PA</td>\n",
       "      <td>19.180923</td>\n",
       "    </tr>\n",
       "    <tr>\n",
       "      <th>44</th>\n",
       "      <td>VA</td>\n",
       "      <td>19.152961</td>\n",
       "    </tr>\n",
       "    <tr>\n",
       "      <th>5</th>\n",
       "      <td>CO</td>\n",
       "      <td>19.090625</td>\n",
       "    </tr>\n",
       "    <tr>\n",
       "      <th>11</th>\n",
       "      <td>HI</td>\n",
       "      <td>18.807755</td>\n",
       "    </tr>\n",
       "    <tr>\n",
       "      <th>27</th>\n",
       "      <td>NC</td>\n",
       "      <td>18.748827</td>\n",
       "    </tr>\n",
       "    <tr>\n",
       "      <th>22</th>\n",
       "      <td>MI</td>\n",
       "      <td>18.741794</td>\n",
       "    </tr>\n",
       "    <tr>\n",
       "      <th>34</th>\n",
       "      <td>NY</td>\n",
       "      <td>18.736129</td>\n",
       "    </tr>\n",
       "    <tr>\n",
       "      <th>46</th>\n",
       "      <td>WA</td>\n",
       "      <td>18.690192</td>\n",
       "    </tr>\n",
       "    <tr>\n",
       "      <th>17</th>\n",
       "      <td>KY</td>\n",
       "      <td>18.498621</td>\n",
       "    </tr>\n",
       "    <tr>\n",
       "      <th>29</th>\n",
       "      <td>NE</td>\n",
       "      <td>18.495294</td>\n",
       "    </tr>\n",
       "    <tr>\n",
       "      <th>15</th>\n",
       "      <td>IN</td>\n",
       "      <td>18.451880</td>\n",
       "    </tr>\n",
       "    <tr>\n",
       "      <th>47</th>\n",
       "      <td>WI</td>\n",
       "      <td>18.271509</td>\n",
       "    </tr>\n",
       "    <tr>\n",
       "      <th>10</th>\n",
       "      <td>GA</td>\n",
       "      <td>18.208130</td>\n",
       "    </tr>\n",
       "    <tr>\n",
       "      <th>30</th>\n",
       "      <td>NH</td>\n",
       "      <td>18.140426</td>\n",
       "    </tr>\n",
       "    <tr>\n",
       "      <th>13</th>\n",
       "      <td>ID</td>\n",
       "      <td>18.132000</td>\n",
       "    </tr>\n",
       "    <tr>\n",
       "      <th>49</th>\n",
       "      <td>WY</td>\n",
       "      <td>18.116667</td>\n",
       "    </tr>\n",
       "    <tr>\n",
       "      <th>26</th>\n",
       "      <td>MT</td>\n",
       "      <td>17.738421</td>\n",
       "    </tr>\n",
       "    <tr>\n",
       "      <th>41</th>\n",
       "      <td>TN</td>\n",
       "      <td>17.290782</td>\n",
       "    </tr>\n",
       "    <tr>\n",
       "      <th>7</th>\n",
       "      <td>DC</td>\n",
       "      <td>17.170000</td>\n",
       "    </tr>\n",
       "    <tr>\n",
       "      <th>1</th>\n",
       "      <td>AL</td>\n",
       "      <td>16.951654</td>\n",
       "    </tr>\n",
       "    <tr>\n",
       "      <th>24</th>\n",
       "      <td>MO</td>\n",
       "      <td>16.825105</td>\n",
       "    </tr>\n",
       "    <tr>\n",
       "      <th>32</th>\n",
       "      <td>NM</td>\n",
       "      <td>16.820952</td>\n",
       "    </tr>\n",
       "    <tr>\n",
       "      <th>25</th>\n",
       "      <td>MS</td>\n",
       "      <td>16.611505</td>\n",
       "    </tr>\n",
       "    <tr>\n",
       "      <th>40</th>\n",
       "      <td>SC</td>\n",
       "      <td>16.327887</td>\n",
       "    </tr>\n",
       "    <tr>\n",
       "      <th>42</th>\n",
       "      <td>TX</td>\n",
       "      <td>16.307984</td>\n",
       "    </tr>\n",
       "    <tr>\n",
       "      <th>16</th>\n",
       "      <td>KS</td>\n",
       "      <td>16.239783</td>\n",
       "    </tr>\n",
       "    <tr>\n",
       "      <th>48</th>\n",
       "      <td>WV</td>\n",
       "      <td>15.873043</td>\n",
       "    </tr>\n",
       "    <tr>\n",
       "      <th>36</th>\n",
       "      <td>OK</td>\n",
       "      <td>14.728571</td>\n",
       "    </tr>\n",
       "    <tr>\n",
       "      <th>12</th>\n",
       "      <td>IA</td>\n",
       "      <td>14.072500</td>\n",
       "    </tr>\n",
       "    <tr>\n",
       "      <th>0</th>\n",
       "      <td>AK</td>\n",
       "      <td>12.304286</td>\n",
       "    </tr>\n",
       "    <tr>\n",
       "      <th>18</th>\n",
       "      <td>LA</td>\n",
       "      <td>12.045440</td>\n",
       "    </tr>\n",
       "    <tr>\n",
       "      <th>45</th>\n",
       "      <td>VT</td>\n",
       "      <td>10.756600</td>\n",
       "    </tr>\n",
       "    <tr>\n",
       "      <th>21</th>\n",
       "      <td>ME</td>\n",
       "      <td>10.500000</td>\n",
       "    </tr>\n",
       "    <tr>\n",
       "      <th>28</th>\n",
       "      <td>ND</td>\n",
       "      <td>9.045000</td>\n",
       "    </tr>\n",
       "  </tbody>\n",
       "</table>\n",
       "</div>"
      ],
      "text/plain": [
       "   state  years data\n",
       "8     DE   20.340000\n",
       "43    UT   20.329880\n",
       "19    MA   20.327611\n",
       "39    RI   20.306500\n",
       "2     AR   20.304737\n",
       "6     CT   20.202567\n",
       "31    NJ   20.046772\n",
       "20    MD   19.894357\n",
       "33    NV   19.671538\n",
       "37    OR   19.597341\n",
       "3     AZ   19.591833\n",
       "4     CA   19.590057\n",
       "35    OH   19.492030\n",
       "14    IL   19.491565\n",
       "9     FL   19.454363\n",
       "23    MN   19.308690\n",
       "38    PA   19.180923\n",
       "44    VA   19.152961\n",
       "5     CO   19.090625\n",
       "11    HI   18.807755\n",
       "27    NC   18.748827\n",
       "22    MI   18.741794\n",
       "34    NY   18.736129\n",
       "46    WA   18.690192\n",
       "17    KY   18.498621\n",
       "29    NE   18.495294\n",
       "15    IN   18.451880\n",
       "47    WI   18.271509\n",
       "10    GA   18.208130\n",
       "30    NH   18.140426\n",
       "13    ID   18.132000\n",
       "49    WY   18.116667\n",
       "26    MT   17.738421\n",
       "41    TN   17.290782\n",
       "7     DC   17.170000\n",
       "1     AL   16.951654\n",
       "24    MO   16.825105\n",
       "32    NM   16.820952\n",
       "25    MS   16.611505\n",
       "40    SC   16.327887\n",
       "42    TX   16.307984\n",
       "16    KS   16.239783\n",
       "48    WV   15.873043\n",
       "36    OK   14.728571\n",
       "12    IA   14.072500\n",
       "0     AK   12.304286\n",
       "18    LA   12.045440\n",
       "45    VT   10.756600\n",
       "21    ME   10.500000\n",
       "28    ND    9.045000"
      ]
     },
     "execution_count": 64,
     "metadata": {},
     "output_type": "execute_result"
    }
   ],
   "source": [
    "complete_years_data = []\n",
    "\n",
    "end = convert_to_decimal_year(\"2016-08\")\n",
    "\n",
    "for start_year in home_prices[\"Start Year of Data\"]:\n",
    "    start = convert_to_decimal_year(start_year)\n",
    "    years_of_data = end - start\n",
    "    complete_years_data.append(years_of_data)\n",
    "    \n",
    "home_prices[\"Years of Complete Data\"] = complete_years_data\n",
    "\n",
    "\n",
    "mean_completeness = home_prices[[\"State\", \"Years of Complete Data\"]].groupby(\"State\", as_index = False).mean().rename(columns={'State':'state',\"Years of Complete Data\" : 'years data'})\n",
    "sorted_mean_completeness = mean_completeness.sort_values(by=\"years data\", ascending=False)\n",
    "sorted_mean_completeness"
   ]
  },
  {
   "cell_type": "code",
   "execution_count": 84,
   "metadata": {},
   "outputs": [
    {
     "data": {
      "image/png": "[encoded data removed]",
      "text/plain": [
       "<Figure size 1440x432 with 1 Axes>"
      ]
     },
     "metadata": {},
     "output_type": "display_data"
    }
   ],
   "source": [
    "plots.figure(figsize=(20,6))\n",
    "sns.barplot(x='state', y=\"years data\", data=sorted_mean_completeness, palette=\"icefire\")\n",
    "plots.xlabel(\"State symbol\", size=20)\n",
    "plots.ylabel(\"Years of Data\", size=20)\n",
    "plots.title(\"Plot of completeness\", size=25)\n",
    "plots.tight_layout()"
   ]
  },
  {
   "cell_type": "markdown",
   "metadata": {},
   "source": [
    "I will calculate the median number of years of data as a frame of reference of where California is compared to the rest of the US."
   ]
  },
  {
   "cell_type": "code",
   "execution_count": 10,
   "metadata": {},
   "outputs": [
    {
     "data": {
      "text/plain": [
       "18.49695740365123"
      ]
     },
     "execution_count": 10,
     "metadata": {},
     "output_type": "execute_result"
    }
   ],
   "source": [
    "np.median(mean_completeness[\"Years of Complete Data\"])"
   ]
  },
  {
   "cell_type": "markdown",
   "metadata": {},
   "source": [
    "I was also curious about how many of the top 30 appreciation values belong to the state of California,"
   ]
  },
  {
   "cell_type": "code",
   "execution_count": 11,
   "metadata": {},
   "outputs": [
    {
     "data": {
      "text/plain": [
       "27"
      ]
     },
     "execution_count": 11,
     "metadata": {},
     "output_type": "execute_result"
    }
   ],
   "source": [
    "first_thirty = sorted_appreciation[:30]\n",
    "num_CA = len(first_thirty[(first_thirty['State']==\"CA\")].index)   \n",
    "num_CA"
   ]
  },
  {
   "cell_type": "markdown",
   "metadata": {},
   "source": [
    "California has about 19.5 years of data per city, which compares with an median of 18.5 years of data for the united states. Out of all the states, California has the 12th highest number of complete values. We can say that California does have more complete datasets than other states, and this is a possible contributing factor to California's high appreciation rate. However, other states that rank similarly to california in terms of missingness do not show up in the top appreciation rates. In fact, out of the top thirty appreciations, 27 are from California. It is highly unlikey that this occured by chance and is more likely to have arisen from other factors. Such factors could be Prop 13, a short supply of housing, favorable weather, and high paying employers in the entertainment and tech industries that drive up home prices in California. "
   ]
  }
 ],
 "metadata": {
  "history": [
   {
    "code": "import numpy as np\nimport pandas as pd\n\n\nimport matplotlib\n%matplotlib inline\nimport matplotlib.pyplot as plots\nplots.style.use('fivethirtyeight')\nimport math",
    "id": "745d7a083b7342e4ad0c060b98690f96",
    "idx": 1,
    "time": "2021-01-26T23:43:29.208Z",
    "type": "execution"
   },
   {
    "code": "home_prices = pd.read_csv(\"City_Zhvi_AllHomes.csv\")\nhome_prices.head(5)",
    "id": "c28df1f08f8b4ca290efe4c6a8b2a671",
    "idx": 2,
    "time": "2021-01-26T23:43:29.679Z",
    "type": "execution"
   },
   {
    "code": "def find_start_year_of_data(tbl):\n    \"\"\"Return array of the start year of the data, in string format\"\"\"\n    column_names = list(home_prices)\n    only_year_column_names = column_names[6:]  #there are six columns that carry nonprice information\n    \n    start_year_list = []\n    for i in range(len(home_prices.index)):\n        row = np.array(home_prices.iloc[i])\n\n        number_missing_prices = 0\n        for price in row[6:]:\n            if math.isnan(price):\n                number_missing_prices += 1\n                \n        start_year = only_year_column_names[number_missing_prices] \n        start_year_list.append(start_year)\n    return start_year_list\n\nhome_prices[\"Start Year of Data\"] = np.array(find_start_year_of_data(home_prices))\nhome_prices.head(5)",
    "id": "d7af11d588cd4236aed23fa0ad1edee9",
    "idx": 4,
    "time": "2021-01-26T23:43:30.115Z",
    "type": "execution"
   },
   {
    "code": "def item_index_dict(tbl, column_name):\n    \"\"\"This cell makes a dictionary of a row item and its index\"\"\"\n    dict_item_and_index = {}\n    row_index = 0\n\n    for item in tbl[column_name]:\n        dict_item_and_index[item] = row_index\n        row_index += 1\n        \n    return dict_item_and_index\n\ndict_city_rowindex = item_index_dict(home_prices, \"RegionName\")",
    "id": "b9e1018dd00f43aa8d1ad7743593c78d",
    "idx": 6,
    "time": "2021-01-26T23:43:30.843Z",
    "type": "execution"
   },
   {
    "code": "def get_prices_and_start_date(city):\n    \"\"\"This function cleans the data. \n    \n    Takes in a city name.   \n    Returns a tuple of actual prices and start date of data for a city.\n    \"\"\"\n    index = dict_city_rowindex[city]\n    city_row_array = np.array(home_prices.iloc[index])\n    \n    \n    column_names = list(home_prices)\n    start_date = city_row_array[-1]\n    start_date_idx = column_names.index(start_date)  \n    city_row_only_prices = city_row_array[start_date_idx:-1]\n    \n    \n    return (city_row_only_prices, start_date) ",
    "id": "b3e4835cef0945999e622a1c237eca80",
    "idx": 8,
    "time": "2021-01-26T23:43:31.620Z",
    "type": "execution"
   },
   {
    "code": "# Expected format for string is \"YYYY-MM\"\ndef convert_to_decimal_year(string):\n    year, month = string.split(\"-\")\n    return round(int(year) + int(month)/12, 2)",
    "id": "a514c7eddc6c45058407c3557e7837a8",
    "idx": 10,
    "time": "2021-01-26T23:43:32.641Z",
    "type": "execution"
   },
   {
    "code": "#Plots the appreciation of houses over time for a given city\ndef plot_appreciation(city):\n    \n    prices, start_date = get_prices_and_start_date(city)\n    city_home_prices_float = np.array([float(price) for price in prices])\n    \n    column_names = list(home_prices)\n    start_date_idx = column_names.index(start_date)\n    \n    years_string = column_names[start_date_idx:-1]\n    years_int = np.array([convert_to_decimal_year(x) for x in years_string])\n    \n    df = pd.DataFrame({'Year': years_int, 'Home Price': city_home_prices_float})\n    df.plot.line(x='Year', y='Home Price')\n   \n    \n    \nplot_appreciation(\"New York\")",
    "id": "82271b1a046040358d178f8369a51057",
    "idx": 11,
    "time": "2021-01-26T23:43:32.787Z",
    "type": "execution"
   },
   {
    "id": "745d7a083b7342e4ad0c060b98690f96",
    "time": "2021-01-26T23:43:32.832Z",
    "type": "completion"
   },
   {
    "id": "c28df1f08f8b4ca290efe4c6a8b2a671",
    "time": "2021-01-26T23:43:33.400Z",
    "type": "completion"
   },
   {
    "code": "inital_prices = home_prices[\"1996-04\"]\nend_prices = home_prices[\"2016-08\"]\n\nappreciation_rate = ((end_prices - inital_prices)/inital_prices) * 100\n\nhome_prices[\"Appreciation (%)\"] = appreciation_rate\nsorted_appreciation = home_prices.sort_values(by=\"Appreciation (%)\", ascending=False)\nsorted_appreciation.head(10)",
    "id": "59aceee48714451786b39f3ab5071cd5",
    "idx": 13,
    "time": "2021-01-26T23:43:34.999Z",
    "type": "execution"
   },
   {
    "code": "complete_years_data = []\n\nend = convert_to_decimal_year(\"2016-08\")\n\nfor start_year in home_prices[\"Start Year of Data\"]:\n    start = convert_to_decimal_year(start_year)\n    years_of_data = end - start\n    complete_years_data.append(years_of_data)\n    \nhome_prices[\"Years of Complete Data\"] = complete_years_data\n\n\nmean_completeness = home_prices[[\"State\", \"Years of Complete Data\"]].groupby(\"State\").mean()\nmean_completeness.sort_values(by=\"Years of Complete Data\", ascending=False)",
    "id": "d48708e98d83405a802998e61e7d07be",
    "idx": 15,
    "time": "2021-01-26T23:43:35.286Z",
    "type": "execution"
   },
   {
    "code": "np.median(mean_completeness[\"Years of Complete Data\"])",
    "id": "1ba400d1e87c407f8a584ca0c235763a",
    "idx": 17,
    "time": "2021-01-26T23:43:35.933Z",
    "type": "execution"
   },
   {
    "code": "first_thirty = sorted_appreciation[:30]\nnum_CA = len(first_thirty[(first_thirty['State']==\"CA\")].index)   \nnum_CA",
    "id": "8531dface9754e9f9650ad94f42ba75a",
    "idx": 19,
    "time": "2021-01-26T23:43:36.625Z",
    "type": "execution"
   },
   {
    "id": "d7af11d588cd4236aed23fa0ad1edee9",
    "time": "2021-01-26T23:43:37.305Z",
    "type": "completion"
   },
   {
    "id": "b9e1018dd00f43aa8d1ad7743593c78d",
    "time": "2021-01-26T23:43:37.335Z",
    "type": "completion"
   },
   {
    "id": "b3e4835cef0945999e622a1c237eca80",
    "time": "2021-01-26T23:43:37.342Z",
    "type": "completion"
   },
   {
    "id": "a514c7eddc6c45058407c3557e7837a8",
    "time": "2021-01-26T23:43:37.343Z",
    "type": "completion"
   },
   {
    "id": "82271b1a046040358d178f8369a51057",
    "time": "2021-01-26T23:43:37.630Z",
    "type": "completion"
   },
   {
    "id": "59aceee48714451786b39f3ab5071cd5",
    "time": "2021-01-26T23:43:37.689Z",
    "type": "completion"
   },
   {
    "id": "d48708e98d83405a802998e61e7d07be",
    "time": "2021-01-26T23:43:37.701Z",
    "type": "completion"
   },
   {
    "id": "1ba400d1e87c407f8a584ca0c235763a",
    "time": "2021-01-26T23:43:37.749Z",
    "type": "completion"
   },
   {
    "id": "8531dface9754e9f9650ad94f42ba75a",
    "time": "2021-01-26T23:43:37.754Z",
    "type": "completion"
   },
   {
    "code": "complete_years_data = []\n\nend = convert_to_decimal_year(\"2016-08\")\n\nfor start_year in home_prices[\"Start Year of Data\"]:\n    start = convert_to_decimal_year(start_year)\n    years_of_data = end - start\n    complete_years_data.append(years_of_data)\n    \nhome_prices[\"Years of Complete Data\"] = complete_years_data\n\n\nmean_completeness = home_prices[[\"State\", \"Years of Complete Data\"]].groupby(\"State\").mean()\nsorted_mean_completeness = mean_completeness.sort_values(by=\"Years of Complete Data\", ascending=False)\nsorted_mean_completeness",
    "id": "d48708e98d83405a802998e61e7d07be",
    "idx": 15,
    "time": "2021-01-26T23:44:16.341Z",
    "type": "execution"
   },
   {
    "id": "d48708e98d83405a802998e61e7d07be",
    "time": "2021-01-26T23:44:16.475Z",
    "type": "completion"
   },
   {
    "code": "plots.figure()",
    "id": "477de881ae204a3c8e2a85a1f32b376c",
    "idx": 16,
    "time": "2021-01-26T23:45:47.074Z",
    "type": "execution"
   },
   {
    "id": "477de881ae204a3c8e2a85a1f32b376c",
    "time": "2021-01-26T23:45:47.172Z",
    "type": "completion"
   },
   {
    "code": "complete_years_data = []\n\nend = convert_to_decimal_year(\"2016-08\")\n\nfor start_year in home_prices[\"Start Year of Data\"]:\n    start = convert_to_decimal_year(start_year)\n    years_of_data = end - start\n    complete_years_data.append(years_of_data)\n    \nhome_prices[\"Years of Complete Data\"] = complete_years_data\n\n\nmean_completeness = home_prices[[\"State\", \"Years of Complete Data\"]].groupby(\"State\").mean()\nsorted_mean_completeness = mean_completeness.sort_values(by=\"Years of Complete Data\", ascending=False)\ntype(sorted_mean_completeness)",
    "id": "d48708e98d83405a802998e61e7d07be",
    "idx": 15,
    "time": "2021-01-26T23:47:13.225Z",
    "type": "execution"
   },
   {
    "id": "d48708e98d83405a802998e61e7d07be",
    "time": "2021-01-26T23:47:13.334Z",
    "type": "completion"
   },
   {
    "code": "complete_years_data = []\n\nend = convert_to_decimal_year(\"2016-08\")\n\nfor start_year in home_prices[\"Start Year of Data\"]:\n    start = convert_to_decimal_year(start_year)\n    years_of_data = end - start\n    complete_years_data.append(years_of_data)\n    \nhome_prices[\"Years of Complete Data\"] = complete_years_data\n\n\nmean_completeness = home_prices[[\"State\", \"Years of Complete Data\"]].groupby(\"State\").mean()\nsorted_mean_completeness = mean_completeness.sort_values(by=\"Years of Complete Data\", ascending=False)\nsorted_mean_completeness",
    "id": "d48708e98d83405a802998e61e7d07be",
    "idx": 15,
    "time": "2021-01-26T23:47:40.790Z",
    "type": "execution"
   },
   {
    "id": "d48708e98d83405a802998e61e7d07be",
    "time": "2021-01-26T23:47:40.924Z",
    "type": "completion"
   },
   {
    "code": "sorted_mean_completeness[0]",
    "id": "477de881ae204a3c8e2a85a1f32b376c",
    "idx": 16,
    "time": "2021-01-26T23:48:28.489Z",
    "type": "execution"
   },
   {
    "id": "477de881ae204a3c8e2a85a1f32b376c",
    "time": "2021-01-26T23:48:28.698Z",
    "type": "completion"
   },
   {
    "code": "sorted_mean_completeness[\"State\"]",
    "id": "477de881ae204a3c8e2a85a1f32b376c",
    "idx": 16,
    "time": "2021-01-26T23:50:03.381Z",
    "type": "execution"
   },
   {
    "id": "477de881ae204a3c8e2a85a1f32b376c",
    "time": "2021-01-26T23:50:03.510Z",
    "type": "completion"
   },
   {
    "code": "import numpy as np\nimport pandas as pd\n\n\nimport matplotlib\n%matplotlib inline\nimport matplotlib.pyplot as plots\nplots.style.use('fivethirtyeight')\nimport math",
    "id": "745d7a083b7342e4ad0c060b98690f96",
    "idx": 1,
    "time": "2021-01-26T23:50:08.414Z",
    "type": "execution"
   },
   {
    "id": "745d7a083b7342e4ad0c060b98690f96",
    "time": "2021-01-26T23:50:08.493Z",
    "type": "completion"
   },
   {
    "code": "home_prices = pd.read_csv(\"City_Zhvi_AllHomes.csv\")\nhome_prices.head(5)",
    "id": "c28df1f08f8b4ca290efe4c6a8b2a671",
    "idx": 2,
    "time": "2021-01-26T23:50:09.183Z",
    "type": "execution"
   },
   {
    "code": "def find_start_year_of_data(tbl):\n    \"\"\"Return array of the start year of the data, in string format\"\"\"\n    column_names = list(home_prices)\n    only_year_column_names = column_names[6:]  #there are six columns that carry nonprice information\n    \n    start_year_list = []\n    for i in range(len(home_prices.index)):\n        row = np.array(home_prices.iloc[i])\n\n        number_missing_prices = 0\n        for price in row[6:]:\n            if math.isnan(price):\n                number_missing_prices += 1\n                \n        start_year = only_year_column_names[number_missing_prices] \n        start_year_list.append(start_year)\n    return start_year_list\n\nhome_prices[\"Start Year of Data\"] = np.array(find_start_year_of_data(home_prices))\nhome_prices.head(5)",
    "id": "d7af11d588cd4236aed23fa0ad1edee9",
    "idx": 4,
    "time": "2021-01-26T23:50:09.847Z",
    "type": "execution"
   },
   {
    "id": "c28df1f08f8b4ca290efe4c6a8b2a671",
    "time": "2021-01-26T23:50:09.877Z",
    "type": "completion"
   },
   {
    "code": "def item_index_dict(tbl, column_name):\n    \"\"\"This cell makes a dictionary of a row item and its index\"\"\"\n    dict_item_and_index = {}\n    row_index = 0\n\n    for item in tbl[column_name]:\n        dict_item_and_index[item] = row_index\n        row_index += 1\n        \n    return dict_item_and_index\n\ndict_city_rowindex = item_index_dict(home_prices, \"RegionName\")",
    "id": "b9e1018dd00f43aa8d1ad7743593c78d",
    "idx": 6,
    "time": "2021-01-26T23:50:10.315Z",
    "type": "execution"
   },
   {
    "code": "def get_prices_and_start_date(city):\n    \"\"\"This function cleans the data. \n    \n    Takes in a city name.   \n    Returns a tuple of actual prices and start date of data for a city.\n    \"\"\"\n    index = dict_city_rowindex[city]\n    city_row_array = np.array(home_prices.iloc[index])\n    \n    \n    column_names = list(home_prices)\n    start_date = city_row_array[-1]\n    start_date_idx = column_names.index(start_date)  \n    city_row_only_prices = city_row_array[start_date_idx:-1]\n    \n    \n    return (city_row_only_prices, start_date) ",
    "id": "b3e4835cef0945999e622a1c237eca80",
    "idx": 8,
    "time": "2021-01-26T23:50:11.212Z",
    "type": "execution"
   },
   {
    "code": "# Expected format for string is \"YYYY-MM\"\ndef convert_to_decimal_year(string):\n    year, month = string.split(\"-\")\n    return round(int(year) + int(month)/12, 2)",
    "id": "a514c7eddc6c45058407c3557e7837a8",
    "idx": 10,
    "time": "2021-01-26T23:50:12.342Z",
    "type": "execution"
   },
   {
    "code": "#Plots the appreciation of houses over time for a given city\ndef plot_appreciation(city):\n    \n    prices, start_date = get_prices_and_start_date(city)\n    city_home_prices_float = np.array([float(price) for price in prices])\n    \n    column_names = list(home_prices)\n    start_date_idx = column_names.index(start_date)\n    \n    years_string = column_names[start_date_idx:-1]\n    years_int = np.array([convert_to_decimal_year(x) for x in years_string])\n    \n    df = pd.DataFrame({'Year': years_int, 'Home Price': city_home_prices_float})\n    df.plot.line(x='Year', y='Home Price')\n   \n    \n    \nplot_appreciation(\"New York\")",
    "id": "82271b1a046040358d178f8369a51057",
    "idx": 11,
    "time": "2021-01-26T23:50:12.496Z",
    "type": "execution"
   },
   {
    "code": "inital_prices = home_prices[\"1996-04\"]\nend_prices = home_prices[\"2016-08\"]\n\nappreciation_rate = ((end_prices - inital_prices)/inital_prices) * 100\n\nhome_prices[\"Appreciation (%)\"] = appreciation_rate\nsorted_appreciation = home_prices.sort_values(by=\"Appreciation (%)\", ascending=False)\nsorted_appreciation.head(10)",
    "id": "59aceee48714451786b39f3ab5071cd5",
    "idx": 13,
    "time": "2021-01-26T23:50:12.777Z",
    "type": "execution"
   },
   {
    "code": "complete_years_data = []\n\nend = convert_to_decimal_year(\"2016-08\")\n\nfor start_year in home_prices[\"Start Year of Data\"]:\n    start = convert_to_decimal_year(start_year)\n    years_of_data = end - start\n    complete_years_data.append(years_of_data)\n    \nhome_prices[\"Years of Complete Data\"] = complete_years_data\n\n\nmean_completeness = home_prices[[\"State\", \"Years of Complete Data\"]].groupby(\"State\").mean()\nsorted_mean_completeness = mean_completeness.sort_values(by=\"Years of Complete Data\", ascending=False)\nsorted_mean_completeness",
    "id": "d48708e98d83405a802998e61e7d07be",
    "idx": 15,
    "time": "2021-01-26T23:50:13.505Z",
    "type": "execution"
   },
   {
    "id": "d7af11d588cd4236aed23fa0ad1edee9",
    "time": "2021-01-26T23:50:13.695Z",
    "type": "completion"
   },
   {
    "id": "b9e1018dd00f43aa8d1ad7743593c78d",
    "time": "2021-01-26T23:50:13.726Z",
    "type": "completion"
   },
   {
    "id": "b3e4835cef0945999e622a1c237eca80",
    "time": "2021-01-26T23:50:13.727Z",
    "type": "completion"
   },
   {
    "id": "a514c7eddc6c45058407c3557e7837a8",
    "time": "2021-01-26T23:50:13.730Z",
    "type": "completion"
   },
   {
    "id": "82271b1a046040358d178f8369a51057",
    "time": "2021-01-26T23:50:13.959Z",
    "type": "completion"
   },
   {
    "id": "59aceee48714451786b39f3ab5071cd5",
    "time": "2021-01-26T23:50:14.019Z",
    "type": "completion"
   },
   {
    "id": "d48708e98d83405a802998e61e7d07be",
    "time": "2021-01-26T23:50:14.024Z",
    "type": "completion"
   },
   {
    "code": "sorted_mean_completeness[\"State\"]",
    "id": "477de881ae204a3c8e2a85a1f32b376c",
    "idx": 16,
    "time": "2021-01-26T23:50:14.262Z",
    "type": "execution"
   },
   {
    "id": "477de881ae204a3c8e2a85a1f32b376c",
    "time": "2021-01-26T23:50:14.395Z",
    "type": "completion"
   },
   {
    "code": "mean_completeness[\"State\"]",
    "id": "477de881ae204a3c8e2a85a1f32b376c",
    "idx": 16,
    "time": "2021-01-26T23:50:39.257Z",
    "type": "execution"
   },
   {
    "id": "477de881ae204a3c8e2a85a1f32b376c",
    "time": "2021-01-26T23:50:39.386Z",
    "type": "completion"
   },
   {
    "code": "mean_completeness",
    "id": "477de881ae204a3c8e2a85a1f32b376c",
    "idx": 16,
    "time": "2021-01-26T23:51:51.178Z",
    "type": "execution"
   },
   {
    "id": "477de881ae204a3c8e2a85a1f32b376c",
    "time": "2021-01-26T23:51:51.277Z",
    "type": "completion"
   },
   {
    "code": "mean_completeness[[\"State\"]]",
    "id": "477de881ae204a3c8e2a85a1f32b376c",
    "idx": 16,
    "time": "2021-01-26T23:53:17.521Z",
    "type": "execution"
   },
   {
    "id": "477de881ae204a3c8e2a85a1f32b376c",
    "time": "2021-01-26T23:53:17.866Z",
    "type": "completion"
   },
   {
    "code": "home_prices[\"State\"]",
    "id": "477de881ae204a3c8e2a85a1f32b376c",
    "idx": 16,
    "time": "2021-01-26T23:53:42.001Z",
    "type": "execution"
   },
   {
    "id": "477de881ae204a3c8e2a85a1f32b376c",
    "time": "2021-01-26T23:53:42.076Z",
    "type": "completion"
   },
   {
    "code": "sorted_mean_completeness.loc[0]",
    "id": "477de881ae204a3c8e2a85a1f32b376c",
    "idx": 16,
    "time": "2021-01-26T23:54:58.595Z",
    "type": "execution"
   },
   {
    "id": "477de881ae204a3c8e2a85a1f32b376c",
    "time": "2021-01-26T23:54:58.852Z",
    "type": "completion"
   },
   {
    "code": "sorted_mean_completeness.loc[1]",
    "id": "477de881ae204a3c8e2a85a1f32b376c",
    "idx": 16,
    "time": "2021-01-26T23:55:02.056Z",
    "type": "execution"
   },
   {
    "id": "477de881ae204a3c8e2a85a1f32b376c",
    "time": "2021-01-26T23:55:02.205Z",
    "type": "completion"
   },
   {
    "code": "complete_years_data = []\n\nend = convert_to_decimal_year(\"2016-08\")\n\nfor start_year in home_prices[\"Start Year of Data\"]:\n    start = convert_to_decimal_year(start_year)\n    years_of_data = end - start\n    complete_years_data.append(years_of_data)\n    \nhome_prices[\"Years of Complete Data\"] = complete_years_data\n\n\nmean_completeness = home_prices[[\"State\", \"Years of Complete Data\"]].groupby(\"State\", as_index = False).mean()\nsorted_mean_completeness = mean_completeness.sort_values(by=\"Years of Complete Data\", ascending=False)\nsorted_mean_completeness",
    "id": "d48708e98d83405a802998e61e7d07be",
    "idx": 15,
    "time": "2021-01-26T23:58:06.340Z",
    "type": "execution"
   },
   {
    "id": "d48708e98d83405a802998e61e7d07be",
    "time": "2021-01-26T23:58:06.477Z",
    "type": "completion"
   },
   {
    "code": "sorted_mean_completeness[1]",
    "id": "477de881ae204a3c8e2a85a1f32b376c",
    "idx": 16,
    "time": "2021-01-26T23:58:14.447Z",
    "type": "execution"
   },
   {
    "id": "477de881ae204a3c8e2a85a1f32b376c",
    "time": "2021-01-26T23:58:14.580Z",
    "type": "completion"
   },
   {
    "code": "complete_years_data = []\n\nend = convert_to_decimal_year(\"2016-08\")\n\nfor start_year in home_prices[\"Start Year of Data\"]:\n    start = convert_to_decimal_year(start_year)\n    years_of_data = end - start\n    complete_years_data.append(years_of_data)\n    \nhome_prices[\"Years of Complete Data\"] = complete_years_data\n\n\nmean_completeness = home_prices[[\"State\", \"Years of Complete Data\"]].groupby(\"State\", as_index = False).mean().rename(columns={\"State\":'valuesum',\"Years of Complete Data\"' : 'selltime'})\nsorted_mean_completeness = mean_completeness.sort_values(by=\"Years of Complete Data\", ascending=False)\nsorted_mean_completeness",
    "id": "d48708e98d83405a802998e61e7d07be",
    "idx": 15,
    "time": "2021-01-26T23:59:20.162Z",
    "type": "execution"
   },
   {
    "id": "d48708e98d83405a802998e61e7d07be",
    "time": "2021-01-26T23:59:20.267Z",
    "type": "completion"
   },
   {
    "code": "complete_years_data = []\n\nend = convert_to_decimal_year(\"2016-08\")\n\nfor start_year in home_prices[\"Start Year of Data\"]:\n    start = convert_to_decimal_year(start_year)\n    years_of_data = end - start\n    complete_years_data.append(years_of_data)\n    \nhome_prices[\"Years of Complete Data\"] = complete_years_data\n\n\nmean_completeness = home_prices[[\"State\", \"Years of Complete Data\"]].groupby(\"State\", as_index = False).mean()\nsorted_mean_completeness = mean_completeness.sort_values(by=\"Years of Complete Data\", ascending=False)\nsorted_mean_completeness",
    "id": "d48708e98d83405a802998e61e7d07be",
    "idx": 15,
    "time": "2021-01-26T23:59:39.355Z",
    "type": "execution"
   },
   {
    "id": "d48708e98d83405a802998e61e7d07be",
    "time": "2021-01-26T23:59:39.483Z",
    "type": "completion"
   },
   {
    "code": "complete_years_data = []\n\nend = convert_to_decimal_year(\"2016-08\")\n\nfor start_year in home_prices[\"Start Year of Data\"]:\n    start = convert_to_decimal_year(start_year)\n    years_of_data = end - start\n    complete_years_data.append(years_of_data)\n    \nhome_prices[\"Years of Complete Data\"] = complete_years_data\n\n#pdf_chart_data.groupby('sell', as_index=False)['value'].sum()\n                              #.rename(columns={'sum':'valuesum','sell' : 'selltime'})\n\n\nmean_completeness = home_prices[[\"State\", \"Years of Complete Data\"]].groupby(\"State\", as_index = False).mean().rename(columns={'State':'s',\"Years of Complete Data\" : 'y'})\n#sorted_mean_completeness = mean_completeness.sort_values(by=\"Years of Complete Data\", ascending=False)\n#sorted_mean_completeness",
    "id": "d48708e98d83405a802998e61e7d07be",
    "idx": 15,
    "time": "2021-01-27T00:01:53.577Z",
    "type": "execution"
   },
   {
    "id": "d48708e98d83405a802998e61e7d07be",
    "time": "2021-01-27T00:01:53.680Z",
    "type": "completion"
   },
   {
    "code": "complete_years_data = []\n\nend = convert_to_decimal_year(\"2016-08\")\n\nfor start_year in home_prices[\"Start Year of Data\"]:\n    start = convert_to_decimal_year(start_year)\n    years_of_data = end - start\n    complete_years_data.append(years_of_data)\n    \nhome_prices[\"Years of Complete Data\"] = complete_years_data\n\n#pdf_chart_data.groupby('sell', as_index=False)['value'].sum()\n                              #.rename(columns={'sum':'valuesum','sell' : 'selltime'})\n\n\nmean_completeness = home_prices[[\"State\", \"Years of Complete Data\"]].groupby(\"State\", as_index = False).mean().rename(columns={'State':'s',\"Years of Complete Data\" : 'y'})\n#sorted_mean_completeness = mean_completeness.sort_values(by=\"Years of Complete Data\", ascending=False)\n#sorted_mean_completeness\nmean_completeness",
    "id": "d48708e98d83405a802998e61e7d07be",
    "idx": 15,
    "time": "2021-01-27T00:02:01.142Z",
    "type": "execution"
   },
   {
    "id": "d48708e98d83405a802998e61e7d07be",
    "time": "2021-01-27T00:02:01.279Z",
    "type": "completion"
   },
   {
    "code": "complete_years_data = []\n\nend = convert_to_decimal_year(\"2016-08\")\n\nfor start_year in home_prices[\"Start Year of Data\"]:\n    start = convert_to_decimal_year(start_year)\n    years_of_data = end - start\n    complete_years_data.append(years_of_data)\n    \nhome_prices[\"Years of Complete Data\"] = complete_years_data\n\n#pdf_chart_data.groupby('sell', as_index=False)['value'].sum()\n                              #.rename(columns={'sum':'valuesum','sell' : 'selltime'})\n\n\nmean_completeness = home_prices[[\"State\", \"Years of Complete Data\"]].groupby(\"State\", as_index = False).mean().rename(columns={'State':'state',\"Years of Complete Data\" : 'years data'})\n#sorted_mean_completeness = mean_completeness.sort_values(by=\"Years of Complete Data\", ascending=False)\n#sorted_mean_completeness\nmean_completeness",
    "id": "d48708e98d83405a802998e61e7d07be",
    "idx": 15,
    "time": "2021-01-27T00:02:36.182Z",
    "type": "execution"
   },
   {
    "id": "d48708e98d83405a802998e61e7d07be",
    "time": "2021-01-27T00:02:36.308Z",
    "type": "completion"
   },
   {
    "code": "complete_years_data = []\n\nend = convert_to_decimal_year(\"2016-08\")\n\nfor start_year in home_prices[\"Start Year of Data\"]:\n    start = convert_to_decimal_year(start_year)\n    years_of_data = end - start\n    complete_years_data.append(years_of_data)\n    \nhome_prices[\"Years of Complete Data\"] = complete_years_data\n\n#pdf_chart_data.groupby('sell', as_index=False)['value'].sum()\n                              #.rename(columns={'sum':'valuesum','sell' : 'selltime'})\n\n\nmean_completeness = home_prices[[\"State\", \"Years of Complete Data\"]].groupby(\"State\", as_index = False).mean().rename(columns={'State':'state',\"Years of Complete Data\" : 'years data'})\nsorted_mean_completeness = mean_completeness.sort_values(by=\"years data\", ascending=False)\n#sorted_mean_completeness\nmean_completeness",
    "id": "d48708e98d83405a802998e61e7d07be",
    "idx": 15,
    "time": "2021-01-27T00:02:51.318Z",
    "type": "execution"
   },
   {
    "id": "d48708e98d83405a802998e61e7d07be",
    "time": "2021-01-27T00:02:51.448Z",
    "type": "completion"
   },
   {
    "code": "complete_years_data = []\n\nend = convert_to_decimal_year(\"2016-08\")\n\nfor start_year in home_prices[\"Start Year of Data\"]:\n    start = convert_to_decimal_year(start_year)\n    years_of_data = end - start\n    complete_years_data.append(years_of_data)\n    \nhome_prices[\"Years of Complete Data\"] = complete_years_data\n\n#pdf_chart_data.groupby('sell', as_index=False)['value'].sum()\n                              #.rename(columns={'sum':'valuesum','sell' : 'selltime'})\n\n\nmean_completeness = home_prices[[\"State\", \"Years of Complete Data\"]].groupby(\"State\", as_index = False).mean().rename(columns={'State':'state',\"Years of Complete Data\" : 'years data'})\nsorted_mean_completeness = mean_completeness.sort_values(by=\"years data\", ascending=False)\nsorted_mean_completeness",
    "id": "d48708e98d83405a802998e61e7d07be",
    "idx": 15,
    "time": "2021-01-27T00:02:59.401Z",
    "type": "execution"
   },
   {
    "id": "d48708e98d83405a802998e61e7d07be",
    "time": "2021-01-27T00:02:59.534Z",
    "type": "completion"
   },
   {
    "code": "sorted_mean_completeness.figure()",
    "id": "477de881ae204a3c8e2a85a1f32b376c",
    "idx": 16,
    "time": "2021-01-27T00:03:43.268Z",
    "type": "execution"
   },
   {
    "id": "477de881ae204a3c8e2a85a1f32b376c",
    "time": "2021-01-27T00:03:43.357Z",
    "type": "completion"
   },
   {
    "code": "sorted_mean_completeness.plot.figure()",
    "id": "477de881ae204a3c8e2a85a1f32b376c",
    "idx": 16,
    "time": "2021-01-27T00:04:17.095Z",
    "type": "execution"
   },
   {
    "id": "477de881ae204a3c8e2a85a1f32b376c",
    "time": "2021-01-27T00:04:17.176Z",
    "type": "completion"
   },
   {
    "code": "sorted_mean_completeness.plot.line()",
    "id": "477de881ae204a3c8e2a85a1f32b376c",
    "idx": 16,
    "time": "2021-01-27T00:05:59.975Z",
    "type": "execution"
   },
   {
    "id": "477de881ae204a3c8e2a85a1f32b376c",
    "time": "2021-01-27T00:06:00.292Z",
    "type": "completion"
   },
   {
    "code": "sorted_mean_completeness.plot.bar()",
    "id": "477de881ae204a3c8e2a85a1f32b376c",
    "idx": 16,
    "time": "2021-01-27T00:06:06.031Z",
    "type": "execution"
   },
   {
    "id": "477de881ae204a3c8e2a85a1f32b376c",
    "time": "2021-01-27T00:06:06.805Z",
    "type": "completion"
   },
   {
    "code": "complete_years_data = []\n\nend = convert_to_decimal_year(\"2016-08\")\n\nfor start_year in home_prices[\"Start Year of Data\"]:\n    start = convert_to_decimal_year(start_year)\n    years_of_data = end - start\n    complete_years_data.append(years_of_data)\n    \nhome_prices[\"Years of Complete Data\"] = complete_years_data\n\n#pdf_chart_data1=pdf_chart_data.groupby('sell')['value'].sum().reset_index().rename(columns={'sum':'valuesum','sell' : 'selltime'})\n\n\nmean_completeness = home_prices[[\"State\", \"Years of Complete Data\"]].groupby(\"State\").mean().reset_index().rename(columns={'State':'state',\"Years of Complete Data\" : 'years data'})\nsorted_mean_completeness = mean_completeness.sort_values(by=\"years data\", ascending=False)\nsorted_mean_completeness",
    "id": "d48708e98d83405a802998e61e7d07be",
    "idx": 15,
    "time": "2021-01-27T00:09:09.693Z",
    "type": "execution"
   },
   {
    "id": "d48708e98d83405a802998e61e7d07be",
    "time": "2021-01-27T00:09:09.826Z",
    "type": "completion"
   },
   {
    "code": "sorted_mean_completeness.plot.bar()",
    "id": "477de881ae204a3c8e2a85a1f32b376c",
    "idx": 16,
    "time": "2021-01-27T00:09:12.337Z",
    "type": "execution"
   },
   {
    "id": "477de881ae204a3c8e2a85a1f32b376c",
    "time": "2021-01-27T00:09:13.111Z",
    "type": "completion"
   },
   {
    "code": "complete_years_data = []\n\nend = convert_to_decimal_year(\"2016-08\")\n\nfor start_year in home_prices[\"Start Year of Data\"]:\n    start = convert_to_decimal_year(start_year)\n    years_of_data = end - start\n    complete_years_data.append(years_of_data)\n    \nhome_prices[\"Years of Complete Data\"] = complete_years_data\n\n#pdf_chart_data1=pdf_chart_data.groupby('sell')['value'].sum().reset_index().rename(columns={'sum':'valuesum','sell' : 'selltime'})\n\n\nmean_completeness = home_prices[[\"State\", \"Years of Complete Data\"]].groupby(\"State\", as_index = False).mean().rename(columns={'State':'state',\"Years of Complete Data\" : 'years data'})\nsorted_mean_completeness = mean_completeness.sort_values(by=\"years data\", ascending=False)\nsorted_mean_completeness",
    "id": "d48708e98d83405a802998e61e7d07be",
    "idx": 15,
    "time": "2021-01-27T00:09:27.444Z",
    "type": "execution"
   },
   {
    "id": "d48708e98d83405a802998e61e7d07be",
    "time": "2021-01-27T00:09:27.572Z",
    "type": "completion"
   },
   {
    "code": "sorted_mean_completeness.plot.bar()",
    "id": "477de881ae204a3c8e2a85a1f32b376c",
    "idx": 16,
    "time": "2021-01-27T00:09:29.178Z",
    "type": "execution"
   },
   {
    "id": "477de881ae204a3c8e2a85a1f32b376c",
    "time": "2021-01-27T00:09:29.935Z",
    "type": "completion"
   },
   {
    "code": "#sorted_mean_completeness.plot.bar()\ndf = pd.DataFrame({'state': sorted_mean_completeness[0], 'years data': sorted_mean_completeness[1]})\ndf.plot.bar()",
    "id": "477de881ae204a3c8e2a85a1f32b376c",
    "idx": 16,
    "time": "2021-01-27T00:10:45.602Z",
    "type": "execution"
   },
   {
    "id": "477de881ae204a3c8e2a85a1f32b376c",
    "time": "2021-01-27T00:10:45.727Z",
    "type": "completion"
   },
   {
    "code": "#sorted_mean_completeness.plot.bar()\ndf = pd.DataFrame({'state': sorted_mean_completeness['state'], 'years data': sorted_mean_completeness['years data']})\ndf.plot.bar()",
    "id": "477de881ae204a3c8e2a85a1f32b376c",
    "idx": 16,
    "time": "2021-01-27T00:11:05.924Z",
    "type": "execution"
   },
   {
    "id": "477de881ae204a3c8e2a85a1f32b376c",
    "time": "2021-01-27T00:11:06.771Z",
    "type": "completion"
   },
   {
    "code": "sorted_mean_completeness.sort_values('years data').plot.bar()\n",
    "id": "477de881ae204a3c8e2a85a1f32b376c",
    "idx": 16,
    "time": "2021-01-27T00:12:08.556Z",
    "type": "execution"
   },
   {
    "id": "477de881ae204a3c8e2a85a1f32b376c",
    "time": "2021-01-27T00:12:09.275Z",
    "type": "completion"
   },
   {
    "code": "plot.figure(figsize=(10,6))\nsorted_mean_completeness.sort_values('years data').plot.bar()\n",
    "id": "477de881ae204a3c8e2a85a1f32b376c",
    "idx": 16,
    "time": "2021-01-27T00:15:21.455Z",
    "type": "execution"
   },
   {
    "id": "477de881ae204a3c8e2a85a1f32b376c",
    "time": "2021-01-27T00:15:21.536Z",
    "type": "completion"
   },
   {
    "code": "plots.figure(figsize=(10,6))\nsorted_mean_completeness.sort_values('years data').plot.bar()\n",
    "id": "477de881ae204a3c8e2a85a1f32b376c",
    "idx": 16,
    "time": "2021-01-27T00:15:35.642Z",
    "type": "execution"
   },
   {
    "id": "477de881ae204a3c8e2a85a1f32b376c",
    "time": "2021-01-27T00:15:36.488Z",
    "type": "completion"
   },
   {
    "code": "import numpy as np\nimport pandas as pd\n\nimport seaborn as sns \nimport matplotlib\n%matplotlib inline\nimport matplotlib.pyplot as plots\nplots.style.use('fivethirtyeight')\nimport math",
    "id": "745d7a083b7342e4ad0c060b98690f96",
    "idx": 1,
    "time": "2021-01-27T00:16:00.977Z",
    "type": "execution"
   },
   {
    "id": "745d7a083b7342e4ad0c060b98690f96",
    "time": "2021-01-27T00:16:01.575Z",
    "type": "completion"
   },
   {
    "code": "home_prices = pd.read_csv(\"City_Zhvi_AllHomes.csv\")\nhome_prices.head(5)",
    "id": "c28df1f08f8b4ca290efe4c6a8b2a671",
    "idx": 2,
    "time": "2021-01-27T00:16:01.792Z",
    "type": "execution"
   },
   {
    "code": "def find_start_year_of_data(tbl):\n    \"\"\"Return array of the start year of the data, in string format\"\"\"\n    column_names = list(home_prices)\n    only_year_column_names = column_names[6:]  #there are six columns that carry nonprice information\n    \n    start_year_list = []\n    for i in range(len(home_prices.index)):\n        row = np.array(home_prices.iloc[i])\n\n        number_missing_prices = 0\n        for price in row[6:]:\n            if math.isnan(price):\n                number_missing_prices += 1\n                \n        start_year = only_year_column_names[number_missing_prices] \n        start_year_list.append(start_year)\n    return start_year_list\n\nhome_prices[\"Start Year of Data\"] = np.array(find_start_year_of_data(home_prices))\nhome_prices.head(5)",
    "id": "d7af11d588cd4236aed23fa0ad1edee9",
    "idx": 4,
    "time": "2021-01-27T00:16:02.411Z",
    "type": "execution"
   },
   {
    "id": "c28df1f08f8b4ca290efe4c6a8b2a671",
    "time": "2021-01-27T00:16:02.480Z",
    "type": "completion"
   },
   {
    "code": "def item_index_dict(tbl, column_name):\n    \"\"\"This cell makes a dictionary of a row item and its index\"\"\"\n    dict_item_and_index = {}\n    row_index = 0\n\n    for item in tbl[column_name]:\n        dict_item_and_index[item] = row_index\n        row_index += 1\n        \n    return dict_item_and_index\n\ndict_city_rowindex = item_index_dict(home_prices, \"RegionName\")",
    "id": "b9e1018dd00f43aa8d1ad7743593c78d",
    "idx": 6,
    "time": "2021-01-27T00:16:02.729Z",
    "type": "execution"
   },
   {
    "code": "def get_prices_and_start_date(city):\n    \"\"\"This function cleans the data. \n    \n    Takes in a city name.   \n    Returns a tuple of actual prices and start date of data for a city.\n    \"\"\"\n    index = dict_city_rowindex[city]\n    city_row_array = np.array(home_prices.iloc[index])\n    \n    \n    column_names = list(home_prices)\n    start_date = city_row_array[-1]\n    start_date_idx = column_names.index(start_date)  \n    city_row_only_prices = city_row_array[start_date_idx:-1]\n    \n    \n    return (city_row_only_prices, start_date) ",
    "id": "b3e4835cef0945999e622a1c237eca80",
    "idx": 8,
    "time": "2021-01-27T00:16:03.067Z",
    "type": "execution"
   },
   {
    "code": "# Expected format for string is \"YYYY-MM\"\ndef convert_to_decimal_year(string):\n    year, month = string.split(\"-\")\n    return round(int(year) + int(month)/12, 2)",
    "id": "a514c7eddc6c45058407c3557e7837a8",
    "idx": 10,
    "time": "2021-01-27T00:16:03.387Z",
    "type": "execution"
   },
   {
    "code": "#Plots the appreciation of houses over time for a given city\ndef plot_appreciation(city):\n    \n    prices, start_date = get_prices_and_start_date(city)\n    city_home_prices_float = np.array([float(price) for price in prices])\n    \n    column_names = list(home_prices)\n    start_date_idx = column_names.index(start_date)\n    \n    years_string = column_names[start_date_idx:-1]\n    years_int = np.array([convert_to_decimal_year(x) for x in years_string])\n    \n    df = pd.DataFrame({'Year': years_int, 'Home Price': city_home_prices_float})\n    df.plot.line(x='Year', y='Home Price')\n   \n    \n    \nplot_appreciation(\"New York\")",
    "id": "82271b1a046040358d178f8369a51057",
    "idx": 11,
    "time": "2021-01-27T00:16:03.540Z",
    "type": "execution"
   },
   {
    "code": "inital_prices = home_prices[\"1996-04\"]\nend_prices = home_prices[\"2016-08\"]\n\nappreciation_rate = ((end_prices - inital_prices)/inital_prices) * 100\n\nhome_prices[\"Appreciation (%)\"] = appreciation_rate\nsorted_appreciation = home_prices.sort_values(by=\"Appreciation (%)\", ascending=False)\nsorted_appreciation.head(10)",
    "id": "59aceee48714451786b39f3ab5071cd5",
    "idx": 13,
    "time": "2021-01-27T00:16:03.846Z",
    "type": "execution"
   },
   {
    "code": "complete_years_data = []\n\nend = convert_to_decimal_year(\"2016-08\")\n\nfor start_year in home_prices[\"Start Year of Data\"]:\n    start = convert_to_decimal_year(start_year)\n    years_of_data = end - start\n    complete_years_data.append(years_of_data)\n    \nhome_prices[\"Years of Complete Data\"] = complete_years_data\n\n\nmean_completeness = home_prices[[\"State\", \"Years of Complete Data\"]].groupby(\"State\", as_index = False).mean().rename(columns={'State':'state',\"Years of Complete Data\" : 'years data'})\nsorted_mean_completeness = mean_completeness.sort_values(by=\"years data\", ascending=False)\nsorted_mean_completeness",
    "id": "d48708e98d83405a802998e61e7d07be",
    "idx": 15,
    "time": "2021-01-27T00:16:04.167Z",
    "type": "execution"
   },
   {
    "code": "plots.figure(figsize=(10,6))\nsorted_mean_completeness.sort_values('years data').plot.bar()\n",
    "id": "477de881ae204a3c8e2a85a1f32b376c",
    "idx": 16,
    "time": "2021-01-27T00:16:04.308Z",
    "type": "execution"
   },
   {
    "id": "d7af11d588cd4236aed23fa0ad1edee9",
    "time": "2021-01-27T00:16:06.751Z",
    "type": "completion"
   },
   {
    "id": "b9e1018dd00f43aa8d1ad7743593c78d",
    "time": "2021-01-27T00:16:06.756Z",
    "type": "completion"
   },
   {
    "id": "b3e4835cef0945999e622a1c237eca80",
    "time": "2021-01-27T00:16:06.785Z",
    "type": "completion"
   },
   {
    "id": "a514c7eddc6c45058407c3557e7837a8",
    "time": "2021-01-27T00:16:06.787Z",
    "type": "completion"
   },
   {
    "id": "82271b1a046040358d178f8369a51057",
    "time": "2021-01-27T00:16:06.850Z",
    "type": "completion"
   },
   {
    "id": "59aceee48714451786b39f3ab5071cd5",
    "time": "2021-01-27T00:16:06.855Z",
    "type": "completion"
   },
   {
    "id": "d48708e98d83405a802998e61e7d07be",
    "time": "2021-01-27T00:16:06.909Z",
    "type": "completion"
   },
   {
    "id": "477de881ae204a3c8e2a85a1f32b376c",
    "time": "2021-01-27T00:16:07.598Z",
    "type": "completion"
   },
   {
    "code": "plt.figure(figsize=(10,6))\nsns.barplot(x='state', y=\"years data\", data=df)\n#sorted_mean_completeness.sort_values('years data').plot.bar()\nplt.xlabel(\"state\", size=15)\nplt.ylabel(\"years\", size=15)\nplt.title(\"Bar plot with Seaborn\", size=18)\nplt.tight_layout()\nplt.savefig(\"barplot_Seaborn_Python.png\", dpi=100)\n\n",
    "id": "477de881ae204a3c8e2a85a1f32b376c",
    "idx": 16,
    "time": "2021-01-27T00:17:19.052Z",
    "type": "execution"
   },
   {
    "id": "477de881ae204a3c8e2a85a1f32b376c",
    "time": "2021-01-27T00:17:19.172Z",
    "type": "completion"
   },
   {
    "code": "plots.figure(figsize=(10,6))\nsns.barplot(x='state', y=\"years data\", data=df)\n#sorted_mean_completeness.sort_values('years data').plot.bar()\nplots.xlabel(\"state\", size=15)\nplots.ylabel(\"years\", size=15)\nplots.title(\"Bar plot with Seaborn\", size=18)\nplots.tight_layout()\nplots.savefig(\"barplot_Seaborn_Python.png\", dpi=100)\n\n",
    "id": "477de881ae204a3c8e2a85a1f32b376c",
    "idx": 16,
    "time": "2021-01-27T00:17:46.049Z",
    "type": "execution"
   },
   {
    "id": "477de881ae204a3c8e2a85a1f32b376c",
    "time": "2021-01-27T00:17:47.360Z",
    "type": "completion"
   },
   {
    "code": "plots.figure(figsize=(20,6))\nsns.barplot(x='state', y=\"years data\", data=df)\n#sorted_mean_completeness.sort_values('years data').plot.bar()\nplots.xlabel(\"state\", size=15)\nplots.ylabel(\"years\", size=15)\nplots.title(\"Bar plot with Seaborn\", size=18)\nplots.tight_layout()\nplots.savefig(\"barplot_Seaborn_Python.png\", dpi=100)\n\n",
    "id": "477de881ae204a3c8e2a85a1f32b376c",
    "idx": 16,
    "time": "2021-01-27T00:18:06.721Z",
    "type": "execution"
   },
   {
    "id": "477de881ae204a3c8e2a85a1f32b376c",
    "time": "2021-01-27T00:18:08.232Z",
    "type": "completion"
   },
   {
    "code": "plots.figure(figsize=(20,6))\nsns.barplot(x='state', y=\"years data\", data=df)\nplots.xlabel(\"state\", size=15)\nplots.ylabel(\"years\", size=15)\nplots.title(\"Bar plot with Seaborn\", size=18)\nplots.tight_layout()\n#plots.savefig(\"barplot_Seaborn_Python.png\", dpi=100)\n\n",
    "id": "477de881ae204a3c8e2a85a1f32b376c",
    "idx": 16,
    "time": "2021-01-27T00:19:43.656Z",
    "type": "execution"
   },
   {
    "id": "477de881ae204a3c8e2a85a1f32b376c",
    "time": "2021-01-27T00:19:44.802Z",
    "type": "completion"
   },
   {
    "code": "plots.figure(figsize=(20,6))\nsns.barplot(x='state', y=\"years data\", data=df)\n#plots.xlabel(\"state\", size=15)\n#plots.ylabel(\"years\", size=15)\n#plots.title(\"Bar plot with Seaborn\", size=18)\n#plots.tight_layout()\n#plots.savefig(\"barplot_Seaborn_Python.png\", dpi=100)\n\n",
    "id": "477de881ae204a3c8e2a85a1f32b376c",
    "idx": 16,
    "time": "2021-01-27T00:19:59.720Z",
    "type": "execution"
   },
   {
    "id": "477de881ae204a3c8e2a85a1f32b376c",
    "time": "2021-01-27T00:20:00.531Z",
    "type": "completion"
   },
   {
    "code": "plots.figure(figsize=(20,6))\nsns.barplot(x='state', y=\"years data\", data=df)\nplots.xlabel(\"State symbol\", size=15)\nplots.ylabel(\"Years of Data\", size=15)\n#plots.title(\"Bar plot with Seaborn\", size=18)\n#plots.tight_layout()\n#plots.savefig(\"barplot_Seaborn_Python.png\", dpi=100)\n\n",
    "id": "477de881ae204a3c8e2a85a1f32b376c",
    "idx": 16,
    "time": "2021-01-27T00:20:40.404Z",
    "type": "execution"
   },
   {
    "id": "477de881ae204a3c8e2a85a1f32b376c",
    "time": "2021-01-27T00:20:41.406Z",
    "type": "completion"
   },
   {
    "code": "plots.figure(figsize=(20,6))\nsns.barplot(x='state', y=\"years data\", data=df)\nplots.xlabel(\"State symbol\", size=20)S\nplots.ylabel(\"Years of Data\", size=20)\n#plots.title(\"Bar plot with Seaborn\", size=18)\n#plots.tight_layout()\n#plots.savefig(\"barplot_Seaborn_Python.png\", dpi=100)\n\n",
    "id": "477de881ae204a3c8e2a85a1f32b376c",
    "idx": 16,
    "time": "2021-01-27T00:20:53.916Z",
    "type": "execution"
   },
   {
    "id": "477de881ae204a3c8e2a85a1f32b376c",
    "time": "2021-01-27T00:20:54.013Z",
    "type": "completion"
   },
   {
    "code": "plots.figure(figsize=(20,6))\nsns.barplot(x='state', y=\"years data\", data=df)\nplots.xlabel(\"State symbol\", size=20)\nplots.ylabel(\"Years of Data\", size=20)\n#plots.title(\"Bar plot with Seaborn\", size=18)\n#plots.tight_layout()\n#plots.savefig(\"barplot_Seaborn_Python.png\", dpi=100)\n\n",
    "id": "477de881ae204a3c8e2a85a1f32b376c",
    "idx": 16,
    "time": "2021-01-27T00:20:56.678Z",
    "type": "execution"
   },
   {
    "id": "477de881ae204a3c8e2a85a1f32b376c",
    "time": "2021-01-27T00:20:57.506Z",
    "type": "completion"
   },
   {
    "code": "plots.figure(figsize=(20,6))\nsns.barplot(x='state', y=\"years data\", data=df)\nplots.xlabel(\"State symbol\", size=20)\nplots.ylabel(\"Years of Data\", size=20)\nplots.title(\"Bar plot of completeness\", size=18)\n#plots.tight_layout()\n#plots.savefig(\"barplot_Seaborn_Python.png\", dpi=100)\n\n",
    "id": "477de881ae204a3c8e2a85a1f32b376c",
    "idx": 16,
    "time": "2021-01-27T00:21:24.830Z",
    "type": "execution"
   },
   {
    "id": "477de881ae204a3c8e2a85a1f32b376c",
    "time": "2021-01-27T00:21:25.726Z",
    "type": "completion"
   },
   {
    "code": "plots.figure(figsize=(20,6))\nsns.barplot(x='state', y=\"years data\", data=df)\nplots.xlabel(\"State symbol\", size=20)\nplots.ylabel(\"Years of Data\", size=20)\nplots.title(\"Bar plot of completeness\", size=25)\n#plots.tight_layout()\n#plots.savefig(\"barplot_Seaborn_Python.png\", dpi=100)\n\n",
    "id": "477de881ae204a3c8e2a85a1f32b376c",
    "idx": 16,
    "time": "2021-01-27T00:21:31.906Z",
    "type": "execution"
   },
   {
    "id": "477de881ae204a3c8e2a85a1f32b376c",
    "time": "2021-01-27T00:21:32.892Z",
    "type": "completion"
   },
   {
    "code": "plots.figure(figsize=(20,6))\nsns.barplot(x='state', y=\"years data\", data=df)\nplots.xlabel(\"State symbol\", size=20)\nplots.ylabel(\"Years of Data\", size=20)\nplots.title(\"Plot of completeness\", size=25)\n#plots.tight_layout()\n#plots.savefig(\"barplot_Seaborn_Python.png\", dpi=100)\n\n",
    "id": "477de881ae204a3c8e2a85a1f32b376c",
    "idx": 16,
    "time": "2021-01-27T00:21:43.466Z",
    "type": "execution"
   },
   {
    "id": "477de881ae204a3c8e2a85a1f32b376c",
    "time": "2021-01-27T00:21:44.342Z",
    "type": "completion"
   },
   {
    "code": "plots.figure(figsize=(20,6))\nsns.barplot(x='state', y=\"years data\", data=df)\nplots.xlabel(\"State symbol\", size=20)\nplots.ylabel(\"Years of Data\", size=20)\nplots.title(\"Plot of completeness\", size=25)\nplots.tight_layout()\n#plots.savefig(\"barplot_Seaborn_Python.png\", dpi=100)\n\n",
    "id": "477de881ae204a3c8e2a85a1f32b376c",
    "idx": 16,
    "time": "2021-01-27T00:21:48.652Z",
    "type": "execution"
   },
   {
    "id": "477de881ae204a3c8e2a85a1f32b376c",
    "time": "2021-01-27T00:21:49.999Z",
    "type": "completion"
   },
   {
    "code": "plots.figure(figsize=(20,6))\nsns.barplot(x='state', y=\"years data\", data=df)\nplots.xlabel(\"State symbol\", size=20)\nplots.ylabel(\"Years of Data\", size=20)\nplots.title(\"Plot of completeness\", size=25)\nplots.tight_layout()",
    "id": "477de881ae204a3c8e2a85a1f32b376c",
    "idx": 16,
    "time": "2021-01-27T00:23:20.126Z",
    "type": "execution"
   },
   {
    "id": "477de881ae204a3c8e2a85a1f32b376c",
    "time": "2021-01-27T00:23:21.311Z",
    "type": "completion"
   },
   {
    "code": "plots.figure(figsize=(20,6))\nsns.barplot(x='state', y=\"years data\", data=sorted_mean_completeness)\nplots.xlabel(\"State symbol\", size=20)\nplots.ylabel(\"Years of Data\", size=20)\nplots.title(\"Plot of completeness\", size=25)\nplots.tight_layout()",
    "id": "477de881ae204a3c8e2a85a1f32b376c",
    "idx": 16,
    "time": "2021-01-27T00:26:12.515Z",
    "type": "execution"
   },
   {
    "id": "477de881ae204a3c8e2a85a1f32b376c",
    "time": "2021-01-27T00:26:13.617Z",
    "type": "completion"
   },
   {
    "code": "plots.figure(figsize=(20,6))\nsns.barplot(x='state', y=\"years data\", data=sorted_mean_completeness)\nplots.xlabel(\"State symbol\", size=20)\nplots.ylabel(\"Years of Data\", size=20)\nplots.title(\"Plot of completeness\", size=25)\nplots.tight_layout()",
    "id": "477de881ae204a3c8e2a85a1f32b376c",
    "idx": 16,
    "time": "2021-01-27T00:26:16.659Z",
    "type": "execution"
   },
   {
    "id": "477de881ae204a3c8e2a85a1f32b376c",
    "time": "2021-01-27T00:26:17.758Z",
    "type": "completion"
   },
   {
    "code": "plots.figure(figsize=(20,6))\nsns.barplot(x='state', y=\"years data\", data=sorted_mean_completeness, palette=\"Blues_d\")\nplots.xlabel(\"State symbol\", size=20)\nplots.ylabel(\"Years of Data\", size=20)\nplots.title(\"Plot of completeness\", size=25)\nplots.tight_layout()",
    "id": "477de881ae204a3c8e2a85a1f32b376c",
    "idx": 16,
    "time": "2021-01-27T00:28:00.329Z",
    "type": "execution"
   },
   {
    "id": "477de881ae204a3c8e2a85a1f32b376c",
    "time": "2021-01-27T00:28:01.669Z",
    "type": "completion"
   },
   {
    "code": "plots.figure(figsize=(20,6))\nsns.barplot(x='state', y=\"years data\", data=sorted_mean_completeness, palette=\"icefire\")\nplots.xlabel(\"State symbol\", size=20)\nplots.ylabel(\"Years of Data\", size=20)\nplots.title(\"Plot of completeness\", size=25)\nplots.tight_layout()",
    "id": "477de881ae204a3c8e2a85a1f32b376c",
    "idx": 16,
    "time": "2021-01-27T00:29:12.279Z",
    "type": "execution"
   },
   {
    "id": "477de881ae204a3c8e2a85a1f32b376c",
    "time": "2021-01-27T00:29:13.413Z",
    "type": "completion"
   },
   {
    "code": "plots.figure(figsize=(20,6))\nsns.barplot(x='state', y=\"years data\", data=sorted_mean_completeness)\nplots.xlabel(\"State symbol\", size=20)\nplots.ylabel(\"Years of Data\", size=20)\nplots.title(\"Plot of completeness\", size=25)\nplots.tight_layout()",
    "id": "477de881ae204a3c8e2a85a1f32b376c",
    "idx": 16,
    "time": "2021-01-27T00:29:27.134Z",
    "type": "execution"
   },
   {
    "id": "477de881ae204a3c8e2a85a1f32b376c",
    "time": "2021-01-27T00:29:28.297Z",
    "type": "completion"
   },
   {
    "code": "plots.figure(figsize=(20,6))\nsns.barplot(x='state', y=\"years data\", data=sorted_mean_completeness, palette=\"icefire\")\nplots.xlabel(\"State symbol\", size=20)\nplots.ylabel(\"Years of Data\", size=20)\nplots.title(\"Plot of completeness\", size=25)\nplots.tight_layout()",
    "id": "477de881ae204a3c8e2a85a1f32b376c",
    "idx": 16,
    "time": "2021-01-27T00:31:22.618Z",
    "type": "execution"
   },
   {
    "id": "477de881ae204a3c8e2a85a1f32b376c",
    "time": "2021-01-27T00:31:23.856Z",
    "type": "completion"
   }
  ],
  "kernelspec": {
   "display_name": "Python 3",
   "language": "python",
   "name": "python3"
  },
  "language_info": {
   "codemirror_mode": {
    "name": "ipython",
    "version": 3
   },
   "file_extension": ".py",
   "mimetype": "text/x-python",
   "name": "python",
   "nbconvert_exporter": "python",
   "pygments_lexer": "ipython3",
   "version": "3.8.6"
  }
 },
 "nbformat": 4,
 "nbformat_minor": 4
}
